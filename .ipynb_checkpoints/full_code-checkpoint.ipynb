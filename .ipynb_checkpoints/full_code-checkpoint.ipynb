{
 "cells": [
  {
   "cell_type": "code",
   "execution_count": 313,
   "metadata": {},
   "outputs": [],
   "source": [
    "import pandas as pd\n",
    "import numpy as np\n",
    "import re\n",
    "import pickle\n",
    "import random"
   ]
  },
  {
   "cell_type": "code",
   "execution_count": 314,
   "metadata": {},
   "outputs": [],
   "source": [
    "data = pd.read_csv(r\"D:/capestone_project/2-Data/sample30.csv\")"
   ]
  },
  {
   "cell_type": "markdown",
   "metadata": {},
   "source": [
    "# Senti-analysis\n",
    "## Data cleaning"
   ]
  },
  {
   "cell_type": "code",
   "execution_count": 315,
   "metadata": {},
   "outputs": [],
   "source": [
    "data.reviews_title = data.reviews_title.str.lower()\n",
    "data.reviews_text = data.reviews_text.str.lower()"
   ]
  },
  {
   "cell_type": "code",
   "execution_count": 316,
   "metadata": {},
   "outputs": [],
   "source": [
    "# 1 stands for positive and 0 is for negative\n",
    "data['user_senti_encode'] = np.where(data[\"user_sentiment\"].str.contains(\"Positive\"), 1, 0)"
   ]
  },
  {
   "cell_type": "code",
   "execution_count": 317,
   "metadata": {},
   "outputs": [],
   "source": [
    "# LEt me see dropping these entries to see if the accuracy increases\n",
    "data = data[(data['reviews_rating']>=2) | (data['user_senti_encode'] != 1)]\n",
    "#this drastically improves the score. Not kidding"
   ]
  },
  {
   "cell_type": "code",
   "execution_count": null,
   "metadata": {},
   "outputs": [],
   "source": [
    "data.reviews_text.value_counts()[:10] # To see how to clean the review text"
   ]
  },
  {
   "cell_type": "code",
   "execution_count": 318,
   "metadata": {},
   "outputs": [],
   "source": [
    "pattern = 'this review was collected as part of a promotion.'\n",
    "data['reviews_text'] = data.reviews_text.apply(lambda sentence:re.sub(pattern,'',sentence))"
   ]
  },
  {
   "cell_type": "code",
   "execution_count": 319,
   "metadata": {},
   "outputs": [],
   "source": [
    "data.reviews_title.fillna(value= 'nan',inplace=True)"
   ]
  },
  {
   "cell_type": "code",
   "execution_count": 320,
   "metadata": {
    "scrolled": true
   },
   "outputs": [],
   "source": [
    "# Removing the whitespaces\n",
    "data['reviews_title']=data.reviews_title.apply(lambda sentence: re.sub(' +', ' ',sentence.strip()))\n",
    "\n",
    "data['reviews_text'] = data.reviews_text.apply(lambda sentence: re.sub(' +', ' ',sentence.strip()))"
   ]
  },
  {
   "cell_type": "code",
   "execution_count": 321,
   "metadata": {},
   "outputs": [
    {
     "data": {
      "text/plain": [
       "'good flavor.'"
      ]
     },
     "execution_count": 321,
     "metadata": {},
     "output_type": "execute_result"
    }
   ],
   "source": [
    "data.reviews_text[1]"
   ]
  },
  {
   "cell_type": "code",
   "execution_count": 322,
   "metadata": {
    "scrolled": true
   },
   "outputs": [],
   "source": [
    "#data.drop_duplicates(subset=['word_count','reviews_text'],keep = 'first',inplace=False)"
   ]
  },
  {
   "cell_type": "code",
   "execution_count": 323,
   "metadata": {},
   "outputs": [
    {
     "data": {
      "text/plain": [
       "0"
      ]
     },
     "execution_count": 323,
     "metadata": {},
     "output_type": "execute_result"
    }
   ],
   "source": [
    "data.reviews_text.isnull().sum()\n",
    "data.reviews_title.isnull().sum()"
   ]
  },
  {
   "cell_type": "code",
   "execution_count": null,
   "metadata": {},
   "outputs": [],
   "source": []
  },
  {
   "cell_type": "code",
   "execution_count": 324,
   "metadata": {},
   "outputs": [
    {
     "data": {
      "text/plain": [
       "5527     i found this at a price that could not be pass...\n",
       "15069    i created a two binder dossier for my husband'...\n",
       "21855    cookie reviews jayne in our class this week we...\n",
       "23159    i can't decide if i like this movie or not. i ...\n",
       "28886    i received this conditioner as part of an infl...\n",
       "Name: reviews_text, dtype: object"
      ]
     },
     "execution_count": 324,
     "metadata": {},
     "output_type": "execute_result"
    }
   ],
   "source": [
    "data[data.reviews_text.str.contains('promotion')].reviews_text[:]"
   ]
  },
  {
   "cell_type": "code",
   "execution_count": 325,
   "metadata": {},
   "outputs": [
    {
     "data": {
      "text/plain": [
       "'i received this conditioner as part of an influenster promotion (for free) and boy am i glad i did! this conditioner does a pretty good job with my thick, wavy hair. i will be interested to see how it treats my hair over time. definitely try this for those of you who have thick, oily hair! although i received this as a promotion, the opinions are my own.'"
      ]
     },
     "execution_count": 325,
     "metadata": {},
     "output_type": "execute_result"
    }
   ],
   "source": [
    "data[data.reviews_text.str.contains('promotion')].reviews_text[28886]\n",
    "# The keyword promotion has no more magic"
   ]
  },
  {
   "cell_type": "markdown",
   "metadata": {},
   "source": [
    "**Finding other such keywords that can caues the similar issue**"
   ]
  },
  {
   "cell_type": "code",
   "execution_count": 326,
   "metadata": {},
   "outputs": [
    {
     "data": {
      "text/plain": [
       "28920    i received this product from influenster for t...\n",
       "28926    i received this product free from influenster ...\n",
       "28949    i have been using this conditioner with the co...\n",
       "28953    i received a free sample of this product for r...\n",
       "28978    i am not in love with the conditioner. the cla...\n",
       "29003    i received this product from influenster for t...\n",
       "29009    i received this product free from influenster ...\n",
       "29042    i received a free sample of this product for r...\n",
       "29054    i am not in love with the conditioner. the cla...\n",
       "29067    loreal extraordinary clay pre-shampoo mask (sp...\n",
       "29123    the mask leaves my hair feeling too dry but th...\n",
       "29289    i was quite impressed in this conditioner. my ...\n",
       "29336    i received this product complimentary for revi...\n",
       "29473    the mask leaves my hair feeling too dry but th...\n",
       "29493    i received this product complimentary for revi...\n",
       "29522    loreal extraordinary clay pre-shampoo mask (sp...\n",
       "29557    i was quite impressed in this conditioner. my ...\n",
       "29850    i have been using this product for the last we...\n",
       "29863    to be honest i love l'oral products but never ...\n",
       "29945    i love conditioners! and this is soooo good! i...\n",
       "29996    i love it , i received this for review purpose...\n",
       "Name: reviews_text, dtype: object"
      ]
     },
     "execution_count": 326,
     "metadata": {},
     "output_type": "execute_result"
    }
   ],
   "source": [
    "data[data.reviews_text.str.contains('review purpose')].reviews_text[:]"
   ]
  },
  {
   "cell_type": "code",
   "execution_count": 327,
   "metadata": {},
   "outputs": [
    {
     "data": {
      "text/plain": [
       "\"i am absolutely in love with this aussie aussome shampoo. i have been using it for a little over a week and my hair is visibly shinier, and smooth to the point where i can run my fingers through it and there isn't a single tangle.this leaves my hair feeling really clean, but also really smooth and shiny. this is also a pretty good deal. i recommend using it with the aussome conditioner. i received this product for free to review from influenster for testing purposes.\""
      ]
     },
     "execution_count": 327,
     "metadata": {},
     "output_type": "execute_result"
    }
   ],
   "source": [
    "data[data.reviews_text.str.contains('influenster')].reviews_text[1099]"
   ]
  },
  {
   "cell_type": "code",
   "execution_count": 328,
   "metadata": {},
   "outputs": [],
   "source": [
    "data['word_count'] = data.reviews_text.apply(lambda sentence: True if len(sentence)>=25 else False)"
   ]
  },
  {
   "cell_type": "code",
   "execution_count": 329,
   "metadata": {
    "scrolled": true
   },
   "outputs": [],
   "source": [
    "data.drop_duplicates(subset=['word_count','reviews_text'],keep = 'first',inplace=True)"
   ]
  },
  {
   "cell_type": "code",
   "execution_count": 330,
   "metadata": {},
   "outputs": [
    {
     "data": {
      "text/plain": [
       "'good flavor.'"
      ]
     },
     "execution_count": 330,
     "metadata": {},
     "output_type": "execute_result"
    }
   ],
   "source": [
    "data.reviews_text[1]"
   ]
  },
  {
   "cell_type": "code",
   "execution_count": 331,
   "metadata": {},
   "outputs": [],
   "source": [
    "#data['tittex'] = data.reviews_title+'. '+data.reviews_text # This reduced the accuracy; revoked to just the text"
   ]
  },
  {
   "cell_type": "markdown",
   "metadata": {},
   "source": [
    "## Text preprocess"
   ]
  },
  {
   "cell_type": "code",
   "execution_count": 332,
   "metadata": {},
   "outputs": [],
   "source": [
    "import seaborn as sns\n",
    "\n",
    "import nltk\n",
    "from nltk.tokenize import word_tokenize\n",
    "\n",
    "from nltk.corpus import stopwords\n",
    "stop_words = stopwords.words('english')\n",
    "\n",
    "from nltk.stem.wordnet import WordNetLemmatizer\n",
    "from nltk.corpus import wordnet\n",
    "from nltk.stem import SnowballStemmer"
   ]
  },
  {
   "cell_type": "code",
   "execution_count": 333,
   "metadata": {},
   "outputs": [],
   "source": [
    "# Data that is to be used for sentiment analysis\n",
    "nlp_data = data.loc[:,['reviews_text','user_senti_encode']]"
   ]
  },
  {
   "cell_type": "code",
   "execution_count": 334,
   "metadata": {},
   "outputs": [
    {
     "data": {
      "text/plain": [
       "<matplotlib.axes._subplots.AxesSubplot at 0x218ce82c908>"
      ]
     },
     "execution_count": 334,
     "metadata": {},
     "output_type": "execute_result"
    },
    {
     "data": {
      "image/png": "[encoded data removed]",
      "text/plain": [
       "<Figure size 432x288 with 1 Axes>"
      ]
     },
     "metadata": {
      "needs_background": "light"
     },
     "output_type": "display_data"
    }
   ],
   "source": [
    "sns.countplot(x='user_senti_encode', data=nlp_data)"
   ]
  },
  {
   "cell_type": "code",
   "execution_count": 335,
   "metadata": {},
   "outputs": [],
   "source": [
    "# If there are any missing entries, then we can remove that row\n",
    "#nlp_data.text.fillna(value='are',inplace=True)\n",
    "nlp_data.dropna(inplace = True)"
   ]
  },
  {
   "cell_type": "code",
   "execution_count": 336,
   "metadata": {},
   "outputs": [],
   "source": [
    "# Remove the not from the list as its always usefull\n",
    "stop_words.remove('not')\n",
    "stop_words.remove('don')\n",
    "stop_words.append('influenster')\n",
    "stop_words.append('promotion')"
   ]
  },
  {
   "cell_type": "code",
   "execution_count": 337,
   "metadata": {},
   "outputs": [],
   "source": [
    "# cleans a sentence that is passed, notice that stemming/lammetization is yet to be done\n",
    "def nlp_preprocesser(sentence):\n",
    "    #print(sentence)\n",
    "    #sentence = re.sub(' +', ' ',sentence.strip()) # Removes the white spaces\n",
    "    words = word_tokenize(sentence)\n",
    "    #Remove punctuation \n",
    "    words=[word for word in words if word.isalpha()]\n",
    "    words = [word for word in words if not word in stop_words]\n",
    "    # Removing the proper nouns from the text\n",
    "    words = nltk.pos_tag(words)\n",
    "    words = [text for (text,pos) in words if pos != 'NNP']# Proper noun\n",
    "   \n",
    "    words = \" \".join(words)# Join to save space\n",
    "    return words # Returns clean text"
   ]
  },
  {
   "cell_type": "code",
   "execution_count": 338,
   "metadata": {},
   "outputs": [],
   "source": [
    "# 1st stage of preprocessed text\n",
    "nlp_data['preprocessed_text']=pd.Series(nlp_data.reviews_text).apply(nlp_preprocesser)"
   ]
  },
  {
   "cell_type": "code",
   "execution_count": 339,
   "metadata": {},
   "outputs": [],
   "source": [
    "lemmatizer = nltk.stem.WordNetLemmatizer()"
   ]
  },
  {
   "cell_type": "code",
   "execution_count": 340,
   "metadata": {},
   "outputs": [],
   "source": [
    "def nltk_tag_to_wordnet_tag(nltk_tag):\n",
    "    if nltk_tag.startswith('J'):\n",
    "        return wordnet.ADJ\n",
    "    elif nltk_tag.startswith('V'):\n",
    "        return wordnet.VERB\n",
    "    elif nltk_tag.startswith('N'):\n",
    "        return wordnet.NOUN\n",
    "    elif nltk_tag.startswith('R'):\n",
    "        return wordnet.ADV\n",
    "    else:\n",
    "        return None"
   ]
  },
  {
   "cell_type": "code",
   "execution_count": 341,
   "metadata": {},
   "outputs": [],
   "source": [
    "import random\n",
    "def sent_lemmatizer(sentence):\n",
    "    #tokenize the sentence and find the POS tag for each token\n",
    "    n_of_words = 150 # Restrics the number of words to 10\n",
    "    words = word_tokenize(sentence)\n",
    "    words = nltk.pos_tag(words)\n",
    "    # Convert the nltk taggs to wordnet tags\n",
    "    words = map(lambda x: (x[0], nltk_tag_to_wordnet_tag(x[1])), words)\n",
    "    lemmatized_sentence = []\n",
    "    for word, tag in words:\n",
    "        if tag is None:\n",
    "            #if there is no available tag, append the token as is\n",
    "            lemmatized_sentence.append(word)\n",
    "        else:\n",
    "            #else use the tag to lemmatize the token\n",
    "            lemmatized_sentence.append(lemmatizer.lemmatize(word, tag))\n",
    "   # Restricts the number of words to n_of_words \n",
    "    if len(lemmatized_sentence) >= n_of_words:\n",
    "        lemmatized_sentence = random.sample(lemmatized_sentence,n_of_words)\n",
    "    return \" \".join(lemmatized_sentence)"
   ]
  },
  {
   "cell_type": "code",
   "execution_count": 342,
   "metadata": {},
   "outputs": [],
   "source": [
    "nlp_data['lemmatized_text'] = pd.Series(nlp_data.preprocessed_text).apply(sent_lemmatizer)"
   ]
  },
  {
   "cell_type": "markdown",
   "metadata": {},
   "source": [
    "**Limiting the text length.**"
   ]
  },
  {
   "cell_type": "code",
   "execution_count": 343,
   "metadata": {},
   "outputs": [
    {
     "data": {
      "text/plain": [
       "'condition healthy receive product complimentary really saved hair product really give extra boost health strength bring hair back life help hair many way'"
      ]
     },
     "execution_count": 343,
     "metadata": {},
     "output_type": "execute_result"
    }
   ],
   "source": [
    "nlp_data['lemmatized_text'][29999    ]"
   ]
  },
  {
   "cell_type": "markdown",
   "metadata": {},
   "source": [
    "## Tf-idf vectoriser|"
   ]
  },
  {
   "cell_type": "code",
   "execution_count": 344,
   "metadata": {},
   "outputs": [],
   "source": [
    "from sklearn.model_selection import train_test_split\n",
    "\n",
    "\n",
    "from sklearn.feature_extraction.text import TfidfVectorizer\n",
    "from sklearn.feature_extraction.text import CountVectorizer\n",
    "\n",
    "import imblearn\n",
    "import pickle\n",
    "from datetime import datetime"
   ]
  },
  {
   "cell_type": "code",
   "execution_count": 345,
   "metadata": {},
   "outputs": [],
   "source": [
    "nlp_data.dropna(inplace=True)"
   ]
  },
  {
   "cell_type": "code",
   "execution_count": 346,
   "metadata": {},
   "outputs": [],
   "source": [
    "X_train, X_test, y_train,y_test = train_test_split(nlp_data.lemmatized_text,nlp_data.user_senti_encode,test_size = 0.2,random_state =17)"
   ]
  },
  {
   "cell_type": "code",
   "execution_count": 347,
   "metadata": {},
   "outputs": [],
   "source": [
    "tf_idf_vectoriser = TfidfVectorizer(ngram_range = (1,2),\n",
    "                                    strip_accents='unicode',\n",
    "                                    min_df = 20, max_df = 0.5,\n",
    "                                   sublinear_tf=True) # an bigram would have \"not ___\" this would really improve the accuracy\n",
    "# a word whe  considered should have atleast shown up in 5 of the documents in order to be vectorised. And should nt be there in more than 50% of the docs"
   ]
  },
  {
   "cell_type": "code",
   "execution_count": 348,
   "metadata": {},
   "outputs": [],
   "source": [
    "X_train_vector = tf_idf_vectoriser.fit_transform(X_train)#.toarray().astype(np.uint8) # fit transform train, so that we can fix the class imbalance"
   ]
  },
  {
   "cell_type": "code",
   "execution_count": 349,
   "metadata": {},
   "outputs": [],
   "source": [
    "# tfIdf\n",
    "date = datetime.now().strftime(\"%Y_%m_%d-%I_%M_%S_%p\")\n",
    "filename = f'to_submit/tf_idf_{date}.sav'\n",
    "pickle.dump(tf_idf_vectoriser, open(filename, 'wb'))"
   ]
  },
  {
   "cell_type": "code",
   "execution_count": 350,
   "metadata": {},
   "outputs": [],
   "source": [
    "X_test_vector = tf_idf_vectoriser.transform(X_test)#.toarray().astype(np.uint8) # Transforming the test data"
   ]
  },
  {
   "cell_type": "code",
   "execution_count": 351,
   "metadata": {},
   "outputs": [],
   "source": [
    "# SMOTE used to fix the class imbalance in the training\n",
    "class_imb = imblearn.over_sampling.SMOTE()"
   ]
  },
  {
   "cell_type": "code",
   "execution_count": 352,
   "metadata": {},
   "outputs": [],
   "source": [
    "X_train_vector_imb, y_train_imb = class_imb.fit_resample(X_train_vector,y_train)"
   ]
  },
  {
   "cell_type": "code",
   "execution_count": 353,
   "metadata": {},
   "outputs": [],
   "source": [
    "X_test_vector_imb, y_test_imb = class_imb.fit_resample(X_test_vector,y_test)"
   ]
  },
  {
   "cell_type": "code",
   "execution_count": 354,
   "metadata": {},
   "outputs": [
    {
     "data": {
      "text/plain": [
       "1    18865\n",
       "0    18865\n",
       "Name: user_senti_encode, dtype: int64"
      ]
     },
     "execution_count": 354,
     "metadata": {},
     "output_type": "execute_result"
    }
   ],
   "source": [
    "# Check if imbalance is sorted\n",
    "y_train_imb.value_counts()"
   ]
  },
  {
   "cell_type": "code",
   "execution_count": null,
   "metadata": {},
   "outputs": [],
   "source": []
  },
  {
   "cell_type": "markdown",
   "metadata": {},
   "source": [
    "# Model test\n",
    "## LogReg"
   ]
  },
  {
   "cell_type": "code",
   "execution_count": 355,
   "metadata": {},
   "outputs": [],
   "source": [
    "from sklearn.metrics import confusion_matrix, classification_report, accuracy_score # to evaluvate the model\n",
    "from sklearn.linear_model import LogisticRegression\n",
    "\n",
    "from sklearn.ensemble import RandomForestClassifier\n",
    "from sklearn.model_selection import GridSearchCV"
   ]
  },
  {
   "cell_type": "code",
   "execution_count": 356,
   "metadata": {},
   "outputs": [
    {
     "data": {
      "text/plain": [
       "LogisticRegression()"
      ]
     },
     "execution_count": 356,
     "metadata": {},
     "output_type": "execute_result"
    }
   ],
   "source": [
    "# Initiate log regression\n",
    "log_reg = LogisticRegression()\n",
    "log_reg.fit(X_train_vector_imb,y_train_imb) # Training the model"
   ]
  },
  {
   "cell_type": "code",
   "execution_count": 357,
   "metadata": {},
   "outputs": [
    {
     "name": "stdout",
     "output_type": "stream",
     "text": [
      "Train Accuracy(LOG_REG): 0.9334216803604559\n",
      "              precision    recall  f1-score   support\n",
      "\n",
      "           0       0.96      0.91      0.94     19819\n",
      "           1       0.91      0.96      0.93     17911\n",
      "\n",
      "    accuracy                           0.93     37730\n",
      "   macro avg       0.93      0.93      0.93     37730\n",
      "weighted avg       0.93      0.93      0.93     37730\n",
      "\n"
     ]
    }
   ],
   "source": [
    "# Evaluvation of the model on train\n",
    "y_pred_train = log_reg.predict(X_train_vector_imb)\n",
    "\n",
    "\n",
    "print(\"Train Accuracy(LOG_REG):\", accuracy_score(y_pred_train, y_train_imb))\n",
    "print(classification_report(y_pred_train, y_train_imb))"
   ]
  },
  {
   "cell_type": "code",
   "execution_count": 358,
   "metadata": {},
   "outputs": [
    {
     "name": "stdout",
     "output_type": "stream",
     "text": [
      "Test Accuracy(LOG_REG): 0.8351706593173628\n",
      "              precision    recall  f1-score   support\n",
      "\n",
      "           0       0.77      0.88      0.82      4126\n",
      "           1       0.90      0.80      0.84      5308\n",
      "\n",
      "    accuracy                           0.84      9434\n",
      "   macro avg       0.84      0.84      0.83      9434\n",
      "weighted avg       0.84      0.84      0.84      9434\n",
      "\n"
     ]
    }
   ],
   "source": [
    "# Evaluvation of the model on test\n",
    "y_pred_test = log_reg.predict(X_test_vector_imb)\n",
    "\n",
    "\n",
    "print(\"Test Accuracy(LOG_REG):\", accuracy_score(y_pred_test, y_test_imb))\n",
    "print(classification_report(y_pred_test, y_test_imb))"
   ]
  },
  {
   "cell_type": "code",
   "execution_count": 286,
   "metadata": {},
   "outputs": [
    {
     "name": "stdout",
     "output_type": "stream",
     "text": [
      "0.9335406235190989\n"
     ]
    }
   ],
   "source": [
    "from sklearn.metrics import roc_auc_score\n",
    "y_pred_test = log_reg.predict(X_test_vector_imb)\n",
    "print( roc_auc_score(y_pred_test, y_test_imb))"
   ]
  },
  {
   "cell_type": "markdown",
   "metadata": {},
   "source": [
    "## Naive"
   ]
  },
  {
   "cell_type": "code",
   "execution_count": 52,
   "metadata": {},
   "outputs": [],
   "source": [
    "from sklearn.naive_bayes import MultinomialNB\n",
    "model = MultinomialNB()"
   ]
  },
  {
   "cell_type": "code",
   "execution_count": 53,
   "metadata": {},
   "outputs": [
    {
     "data": {
      "text/plain": [
       "MultinomialNB()"
      ]
     },
     "execution_count": 53,
     "metadata": {},
     "output_type": "execute_result"
    }
   ],
   "source": [
    "model.fit(X_train_vector_imb.toarray(),y_train_imb)"
   ]
  },
  {
   "cell_type": "code",
   "execution_count": 54,
   "metadata": {},
   "outputs": [],
   "source": [
    "import pickle\n",
    "filename = 'NB_model.sav'\n",
    "pickle.dump(model, open(filename, 'wb'))"
   ]
  },
  {
   "cell_type": "code",
   "execution_count": 55,
   "metadata": {},
   "outputs": [
    {
     "name": "stdout",
     "output_type": "stream",
     "text": [
      "Test Accuracy(LOG_REG): 0.8523018997090536\n",
      "              precision    recall  f1-score   support\n",
      "\n",
      "           0       0.76      0.43      0.55      1229\n",
      "           1       0.86      0.96      0.91      4614\n",
      "\n",
      "    accuracy                           0.85      5843\n",
      "   macro avg       0.81      0.70      0.73      5843\n",
      "weighted avg       0.84      0.85      0.84      5843\n",
      "\n"
     ]
    }
   ],
   "source": [
    "# Evaluvation of the model on test\n",
    "y_pred_test = model.predict(X_test_vector.toarray())\n",
    "\n",
    "\n",
    "print(\"Test Accuracy(LOG_REG):\", accuracy_score(y_pred_test, y_test))\n",
    "print(classification_report(y_pred_test, y_test))"
   ]
  },
  {
   "cell_type": "code",
   "execution_count": 198,
   "metadata": {},
   "outputs": [
    {
     "name": "stdout",
     "output_type": "stream",
     "text": [
      "Train Accuracy(LOG_REG): 0.8769137889398696\n",
      "              precision    recall  f1-score   support\n",
      "\n",
      "           0       0.88      0.88      0.88     20704\n",
      "           1       0.88      0.88      0.88     20706\n",
      "\n",
      "    accuracy                           0.88     41410\n",
      "   macro avg       0.88      0.88      0.88     41410\n",
      "weighted avg       0.88      0.88      0.88     41410\n",
      "\n"
     ]
    }
   ],
   "source": [
    "# Evaluvation of the model on train\n",
    "y_pred_train = model.predict(X_train_vector_imb.toarray())\n",
    "\n",
    "\n",
    "print(\"Train Accuracy(LOG_REG):\", accuracy_score(y_pred_train, y_train_imb))\n",
    "print(classification_report(y_pred_train, y_train_imb))"
   ]
  },
  {
   "cell_type": "markdown",
   "metadata": {},
   "source": [
    "## RF"
   ]
  },
  {
   "cell_type": "code",
   "execution_count": 199,
   "metadata": {},
   "outputs": [],
   "source": [
    "model_rf = RandomForestClassifier(random_state=17, n_jobs=-1)"
   ]
  },
  {
   "cell_type": "code",
   "execution_count": 200,
   "metadata": {},
   "outputs": [],
   "source": [
    "params = {'max_depth':[40,50,60],\n",
    "         'min_samples_leaf': [3,5],\n",
    "         'max_features': [50,60],\n",
    "         'n_estimators': [200,300,400]}"
   ]
  },
  {
   "cell_type": "code",
   "execution_count": 201,
   "metadata": {},
   "outputs": [],
   "source": [
    "grid_search = GridSearchCV(estimator = model_rf, param_grid = params, cv = 4, n_jobs = -1, verbose = 1, scoring = 'accuracy' )"
   ]
  },
  {
   "cell_type": "code",
   "execution_count": 202,
   "metadata": {},
   "outputs": [
    {
     "name": "stdout",
     "output_type": "stream",
     "text": [
      "Fitting 4 folds for each of 36 candidates, totalling 144 fits\n",
      "Wall time: 1h 14min 18s\n"
     ]
    },
    {
     "data": {
      "text/plain": [
       "GridSearchCV(cv=4, estimator=RandomForestClassifier(n_jobs=-1, random_state=17),\n",
       "             n_jobs=-1,\n",
       "             param_grid={'max_depth': [40, 50, 60], 'max_features': [50, 60],\n",
       "                         'min_samples_leaf': [3, 5],\n",
       "                         'n_estimators': [200, 300, 400]},\n",
       "             scoring='accuracy', verbose=1)"
      ]
     },
     "execution_count": 202,
     "metadata": {},
     "output_type": "execute_result"
    }
   ],
   "source": [
    "%%time\n",
    "grid_search.fit(X_train_vector_imb,y_train_imb)"
   ]
  },
  {
   "cell_type": "code",
   "execution_count": 203,
   "metadata": {},
   "outputs": [],
   "source": [
    "rf_best = grid_search.best_estimator_"
   ]
  },
  {
   "cell_type": "code",
   "execution_count": 204,
   "metadata": {},
   "outputs": [
    {
     "data": {
      "text/plain": [
       "RandomForestClassifier(max_depth=60, max_features=60, min_samples_leaf=3,\n",
       "                       n_estimators=300, n_jobs=-1, random_state=17)"
      ]
     },
     "execution_count": 204,
     "metadata": {},
     "output_type": "execute_result"
    }
   ],
   "source": [
    "rf_best"
   ]
  },
  {
   "cell_type": "code",
   "execution_count": 205,
   "metadata": {},
   "outputs": [
    {
     "name": "stdout",
     "output_type": "stream",
     "text": [
      "Test Accuracy(LOG_REG): 0.9156255348279994\n",
      "              precision    recall  f1-score   support\n",
      "\n",
      "           0       0.69      0.64      0.66       765\n",
      "           1       0.95      0.96      0.95      5078\n",
      "\n",
      "    accuracy                           0.92      5843\n",
      "   macro avg       0.82      0.80      0.81      5843\n",
      "weighted avg       0.91      0.92      0.91      5843\n",
      "\n"
     ]
    }
   ],
   "source": [
    "# Evaluvation of the model on test\n",
    "y_pred_test = rf_best.predict(X_test_vector)\n",
    "\n",
    "\n",
    "print(\"Test Accuracy(LOG_REG):\", accuracy_score(y_pred_test, y_test))\n",
    "print(classification_report(y_pred_test, y_test))"
   ]
  },
  {
   "cell_type": "code",
   "execution_count": 206,
   "metadata": {},
   "outputs": [
    {
     "name": "stdout",
     "output_type": "stream",
     "text": [
      "Train Accuracy(LOG_REG): 0.9702004346776141\n",
      "              precision    recall  f1-score   support\n",
      "\n",
      "           0       0.98      0.96      0.97     21121\n",
      "           1       0.96      0.98      0.97     20289\n",
      "\n",
      "    accuracy                           0.97     41410\n",
      "   macro avg       0.97      0.97      0.97     41410\n",
      "weighted avg       0.97      0.97      0.97     41410\n",
      "\n"
     ]
    }
   ],
   "source": [
    "# Evaluvation of the model on train\n",
    "y_pred_train = rf_best.predict(X_train_vector_imb)\n",
    "\n",
    "\n",
    "print(\"Train Accuracy(LOG_REG):\", accuracy_score(y_pred_train, y_train_imb))\n",
    "print(classification_report(y_pred_train, y_train_imb))"
   ]
  },
  {
   "cell_type": "code",
   "execution_count": 211,
   "metadata": {},
   "outputs": [
    {
     "name": "stdout",
     "output_type": "stream",
     "text": [
      "filename_2022_02_16-11_13_19_PM\n"
     ]
    }
   ],
   "source": []
  },
  {
   "cell_type": "code",
   "execution_count": 213,
   "metadata": {},
   "outputs": [],
   "source": [
    "# Model saver\n",
    "date = datetime.now().strftime(\"%Y_%m_%d-%I_%M_%S_%p\")\n",
    "filename = f'to_submit/log_reg_{date}.sav'\n",
    "pickle.dump(log_reg, open(filename, 'wb'))"
   ]
  },
  {
   "cell_type": "code",
   "execution_count": 214,
   "metadata": {},
   "outputs": [],
   "source": [
    "# Model saver\n",
    "date = datetime.now().strftime(\"%Y_%m_%d-%I_%M_%S_%p\")\n",
    "filename = f'to_submit/naive_{date}.sav'\n",
    "pickle.dump(model, open(filename, 'wb'))"
   ]
  },
  {
   "cell_type": "code",
   "execution_count": 215,
   "metadata": {},
   "outputs": [],
   "source": [
    "# Model saver\n",
    "date = datetime.now().strftime(\"%Y_%m_%d-%I_%M_%S_%p\")\n",
    "filename = f'to_submit/random_forest_{date}.sav'\n",
    "pickle.dump(rf_best, open(filename, 'wb'))"
   ]
  },
  {
   "cell_type": "code",
   "execution_count": 216,
   "metadata": {},
   "outputs": [],
   "source": []
  },
  {
   "cell_type": "code",
   "execution_count": 230,
   "metadata": {},
   "outputs": [],
   "source": [
    "ho_vec = tf_idf_vectoriser.transform(pd.Series('love'))"
   ]
  },
  {
   "cell_type": "code",
   "execution_count": 231,
   "metadata": {},
   "outputs": [
    {
     "data": {
      "text/plain": [
       "19097    love would recommend product anytime need litt...\n",
       "5227     great buy pack love movie sequel ca wait next ...\n",
       "3181                          movie entertain really funny\n",
       "615       try olay product level accord age skin care need\n",
       "15833    like product natural feel nice lip especially ...\n",
       "                               ...                        \n",
       "13651    love disinfect wipe use everything feel confid...\n",
       "18214    pretty good product careful replace glass frag...\n",
       "1377     poor think might bad batch product lose viscos...\n",
       "9615     love fresh smell wipe well way clean great job...\n",
       "27965                           movie great kid adult cute\n",
       "Name: lemmatized_text, Length: 5843, dtype: object"
      ]
     },
     "execution_count": 231,
     "metadata": {},
     "output_type": "execute_result"
    }
   ],
   "source": [
    "X_test"
   ]
  },
  {
   "cell_type": "code",
   "execution_count": 232,
   "metadata": {},
   "outputs": [
    {
     "data": {
      "text/plain": [
       "0    hi\n",
       "dtype: object"
      ]
     },
     "execution_count": 232,
     "metadata": {},
     "output_type": "execute_result"
    }
   ],
   "source": [
    "pd.Series('hi')"
   ]
  },
  {
   "cell_type": "code",
   "execution_count": 233,
   "metadata": {},
   "outputs": [
    {
     "data": {
      "text/plain": [
       "array([1])"
      ]
     },
     "execution_count": 233,
     "metadata": {},
     "output_type": "execute_result"
    }
   ],
   "source": [
    "log_reg.predict(ho_vec)"
   ]
  },
  {
   "cell_type": "code",
   "execution_count": null,
   "metadata": {},
   "outputs": [],
   "source": []
  }
 ],
 "metadata": {
  "kernelspec": {
   "display_name": "Python 3",
   "language": "python",
   "name": "python3"
  },
  "language_info": {
   "codemirror_mode": {
    "name": "ipython",
    "version": 3
   },
   "file_extension": ".py",
   "mimetype": "text/x-python",
   "name": "python",
   "nbconvert_exporter": "python",
   "pygments_lexer": "ipython3",
   "version": "3.7.6"
  }
 },
 "nbformat": 4,
 "nbformat_minor": 4
}
