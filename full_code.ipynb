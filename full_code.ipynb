{
 "cells": [
  {
   "cell_type": "code",
   "execution_count": 107,
   "metadata": {},
   "outputs": [],
   "source": [
    "import pandas as pd\n",
    "import numpy as np\n",
    "import re\n",
    "import pickle\n",
    "import random"
   ]
  },
  {
   "cell_type": "code",
   "execution_count": 108,
   "metadata": {},
   "outputs": [],
   "source": [
    "data = pd.read_csv(r\"D:/capestone_project/2-Data/sample30.csv\")"
   ]
  },
  {
   "cell_type": "markdown",
   "metadata": {},
   "source": [
    "# Senti-analysis\n",
    "## Data cleaning"
   ]
  },
  {
   "cell_type": "code",
   "execution_count": 109,
   "metadata": {},
   "outputs": [],
   "source": [
    "data.reviews_title = data.reviews_title.str.lower()\n",
    "data.reviews_text = data.reviews_text.str.lower()"
   ]
  },
  {
   "cell_type": "code",
   "execution_count": 110,
   "metadata": {},
   "outputs": [],
   "source": [
    "# 1 stands for positive and 0 is for negative\n",
    "data['user_senti_encode'] = np.where(data[\"user_sentiment\"].str.contains(\"Positive\"), 1, 0)"
   ]
  },
  {
   "cell_type": "code",
   "execution_count": 111,
   "metadata": {},
   "outputs": [],
   "source": [
    "# LEt me see dropping these entries to see if the accuracy increases\n",
    "data = data[(data['reviews_rating']>=2) | (data['user_senti_encode'] != 1)]\n",
    "#this drastically improves the score. Not kidding"
   ]
  },
  {
   "cell_type": "code",
   "execution_count": 112,
   "metadata": {},
   "outputs": [
    {
     "data": {
      "text/plain": [
       "False    14036\n",
       "True      1414\n",
       "Name: reviews_didPurchase, dtype: int64"
      ]
     },
     "execution_count": 112,
     "metadata": {},
     "output_type": "execute_result"
    }
   ],
   "source": [
    "# As the number of False is extremely high. We cannot avoid these reviews. Maybe can be used while recommmending\n",
    "data.reviews_didPurchase.value_counts()"
   ]
  },
  {
   "cell_type": "code",
   "execution_count": 113,
   "metadata": {},
   "outputs": [
    {
     "data": {
      "text/plain": [
       "good                                                                                                 29\n",
       "great                                                                                                19\n",
       "great product                                                                                        15\n",
       "excellent                                                                                             6\n",
       "taste great                                                                                           5\n",
       "great!                                                                                                5\n",
       "good product                                                                                          4\n",
       "love them                                                                                             4\n",
       "very good                                                                                             4\n",
       "i use this for everything especially for clean up after kids and pets! i purchase this regularly!     3\n",
       "Name: reviews_text, dtype: int64"
      ]
     },
     "execution_count": 113,
     "metadata": {},
     "output_type": "execute_result"
    }
   ],
   "source": [
    "data.reviews_text.value_counts()[:10] # To see how to clean the review text"
   ]
  },
  {
   "cell_type": "code",
   "execution_count": 114,
   "metadata": {},
   "outputs": [
    {
     "data": {
      "text/html": [
       "<div>\n",
       "<style scoped>\n",
       "    .dataframe tbody tr th:only-of-type {\n",
       "        vertical-align: middle;\n",
       "    }\n",
       "\n",
       "    .dataframe tbody tr th {\n",
       "        vertical-align: top;\n",
       "    }\n",
       "\n",
       "    .dataframe thead th {\n",
       "        text-align: right;\n",
       "    }\n",
       "</style>\n",
       "<table border=\"1\" class=\"dataframe\">\n",
       "  <thead>\n",
       "    <tr style=\"text-align: right;\">\n",
       "      <th></th>\n",
       "      <th>id</th>\n",
       "      <th>brand</th>\n",
       "      <th>categories</th>\n",
       "      <th>manufacturer</th>\n",
       "      <th>name</th>\n",
       "      <th>reviews_date</th>\n",
       "      <th>reviews_didPurchase</th>\n",
       "      <th>reviews_doRecommend</th>\n",
       "      <th>reviews_rating</th>\n",
       "      <th>reviews_text</th>\n",
       "      <th>reviews_title</th>\n",
       "      <th>reviews_userCity</th>\n",
       "      <th>reviews_userProvince</th>\n",
       "      <th>reviews_username</th>\n",
       "      <th>user_sentiment</th>\n",
       "      <th>user_senti_encode</th>\n",
       "    </tr>\n",
       "  </thead>\n",
       "  <tbody>\n",
       "  </tbody>\n",
       "</table>\n",
       "</div>"
      ],
      "text/plain": [
       "Empty DataFrame\n",
       "Columns: [id, brand, categories, manufacturer, name, reviews_date, reviews_didPurchase, reviews_doRecommend, reviews_rating, reviews_text, reviews_title, reviews_userCity, reviews_userProvince, reviews_username, user_sentiment, user_senti_encode]\n",
       "Index: []"
      ]
     },
     "execution_count": 114,
     "metadata": {},
     "output_type": "execute_result"
    }
   ],
   "source": [
    "# One repetative reviwew\n",
    "data[data.reviews_text==\"I really don't like the new coconut smell. Please bring back the wonderful scent back for us. Obviously I am not the only one like that smell. I just bought 3 bottles of shampoo and 2 conditioner and discovered the smell has been changed to a coconut one. It really disappointed me with the smell and I am gonna return it. Sad to say that I am not going to repurchase it unless the wonderful scent being brought back :(\"]"
   ]
  },
  {
   "cell_type": "code",
   "execution_count": 115,
   "metadata": {},
   "outputs": [
    {
     "data": {
      "text/plain": [
       "great product     743\n",
       "great movie       664\n",
       "clorox wipes      511\n",
       "good movie        339\n",
       "great             320\n",
       "awesome           263\n",
       "love it           214\n",
       "love it!          165\n",
       "great product!    161\n",
       "clorox            159\n",
       "Name: reviews_title, dtype: int64"
      ]
     },
     "execution_count": 115,
     "metadata": {},
     "output_type": "execute_result"
    }
   ],
   "source": [
    "# Just seeing if the title is usefull\n",
    "data.reviews_title.value_counts()[:10]"
   ]
  },
  {
   "cell_type": "code",
   "execution_count": 116,
   "metadata": {},
   "outputs": [],
   "source": [
    "pattern = 'this review was collected as part of a promotion.'\n",
    "data['reviews_text'] = data.reviews_text.apply(lambda sentence:re.sub(pattern,'',sentence))"
   ]
  },
  {
   "cell_type": "code",
   "execution_count": 117,
   "metadata": {},
   "outputs": [],
   "source": [
    "data.reviews_title.fillna(value= 'nan',inplace=True)"
   ]
  },
  {
   "cell_type": "code",
   "execution_count": 118,
   "metadata": {
    "scrolled": true
   },
   "outputs": [],
   "source": [
    "# Removing the whitespaces\n",
    "data['reviews_title']=data.reviews_title.apply(lambda sentence: re.sub(' +', ' ',sentence.strip()))\n",
    "\n",
    "data['reviews_text'] = data.reviews_text.apply(lambda sentence: re.sub(' +', ' ',sentence.strip()))"
   ]
  },
  {
   "cell_type": "code",
   "execution_count": 119,
   "metadata": {},
   "outputs": [
    {
     "data": {
      "text/plain": [
       "'good flavor.'"
      ]
     },
     "execution_count": 119,
     "metadata": {},
     "output_type": "execute_result"
    }
   ],
   "source": [
    "data.reviews_text[1]"
   ]
  },
  {
   "cell_type": "code",
   "execution_count": null,
   "metadata": {
    "scrolled": true
   },
   "outputs": [],
   "source": []
  },
  {
   "cell_type": "code",
   "execution_count": 120,
   "metadata": {},
   "outputs": [
    {
     "data": {
      "text/plain": [
       "0"
      ]
     },
     "execution_count": 120,
     "metadata": {},
     "output_type": "execute_result"
    }
   ],
   "source": [
    "data.reviews_text.isnull().sum()\n",
    "data.reviews_title.isnull().sum()"
   ]
  },
  {
   "cell_type": "code",
   "execution_count": null,
   "metadata": {},
   "outputs": [],
   "source": []
  },
  {
   "cell_type": "code",
   "execution_count": 121,
   "metadata": {},
   "outputs": [
    {
     "data": {
      "text/plain": [
       "5527     i found this at a price that could not be pass...\n",
       "15069    i created a two binder dossier for my husband'...\n",
       "21855    cookie reviews jayne in our class this week we...\n",
       "23159    i can't decide if i like this movie or not. i ...\n",
       "28886    i received this conditioner as part of an infl...\n",
       "Name: reviews_text, dtype: object"
      ]
     },
     "execution_count": 121,
     "metadata": {},
     "output_type": "execute_result"
    }
   ],
   "source": [
    "data[data.reviews_text.str.contains('promotion')].reviews_text[:]"
   ]
  },
  {
   "cell_type": "code",
   "execution_count": 122,
   "metadata": {},
   "outputs": [
    {
     "data": {
      "text/plain": [
       "'i received this conditioner as part of an influenster promotion (for free) and boy am i glad i did! this conditioner does a pretty good job with my thick, wavy hair. i will be interested to see how it treats my hair over time. definitely try this for those of you who have thick, oily hair! although i received this as a promotion, the opinions are my own.'"
      ]
     },
     "execution_count": 122,
     "metadata": {},
     "output_type": "execute_result"
    }
   ],
   "source": [
    "data[data.reviews_text.str.contains('promotion')].reviews_text[28886]\n",
    "# The keyword promotion has no more magic"
   ]
  },
  {
   "cell_type": "markdown",
   "metadata": {},
   "source": [
    "**Finding other such keywords that can caues the similar issue**"
   ]
  },
  {
   "cell_type": "code",
   "execution_count": 123,
   "metadata": {},
   "outputs": [
    {
     "data": {
      "text/plain": [
       "28920    i received this product from influenster for t...\n",
       "28926    i received this product free from influenster ...\n",
       "28949    i have been using this conditioner with the co...\n",
       "28953    i received a free sample of this product for r...\n",
       "28978    i am not in love with the conditioner. the cla...\n",
       "29003    i received this product from influenster for t...\n",
       "29009    i received this product free from influenster ...\n",
       "29042    i received a free sample of this product for r...\n",
       "29054    i am not in love with the conditioner. the cla...\n",
       "29067    loreal extraordinary clay pre-shampoo mask (sp...\n",
       "29123    the mask leaves my hair feeling too dry but th...\n",
       "29289    i was quite impressed in this conditioner. my ...\n",
       "29336    i received this product complimentary for revi...\n",
       "29473    the mask leaves my hair feeling too dry but th...\n",
       "29493    i received this product complimentary for revi...\n",
       "29522    loreal extraordinary clay pre-shampoo mask (sp...\n",
       "29557    i was quite impressed in this conditioner. my ...\n",
       "29850    i have been using this product for the last we...\n",
       "29863    to be honest i love l'oral products but never ...\n",
       "29945    i love conditioners! and this is soooo good! i...\n",
       "29996    i love it , i received this for review purpose...\n",
       "Name: reviews_text, dtype: object"
      ]
     },
     "execution_count": 123,
     "metadata": {},
     "output_type": "execute_result"
    }
   ],
   "source": [
    "data[data.reviews_text.str.contains('review purpose')].reviews_text[:]"
   ]
  },
  {
   "cell_type": "code",
   "execution_count": 124,
   "metadata": {},
   "outputs": [
    {
     "data": {
      "text/plain": [
       "\"i am absolutely in love with this aussie aussome shampoo. i have been using it for a little over a week and my hair is visibly shinier, and smooth to the point where i can run my fingers through it and there isn't a single tangle.this leaves my hair feeling really clean, but also really smooth and shiny. this is also a pretty good deal. i recommend using it with the aussome conditioner. i received this product for free to review from influenster for testing purposes.\""
      ]
     },
     "execution_count": 124,
     "metadata": {},
     "output_type": "execute_result"
    }
   ],
   "source": [
    "data[data.reviews_text.str.contains('influenster')].reviews_text[1099]"
   ]
  },
  {
   "cell_type": "code",
   "execution_count": 125,
   "metadata": {},
   "outputs": [],
   "source": [
    "data['word_count'] = data.reviews_text.apply(lambda sentence: True if len(sentence)>=25 else False) # needed to drop reviews whch are ditto same, and given by the same user"
   ]
  },
  {
   "cell_type": "code",
   "execution_count": 126,
   "metadata": {
    "scrolled": true
   },
   "outputs": [],
   "source": [
    "data.drop_duplicates(subset=['word_count','reviews_text','id'],keep = 'first',inplace= True) # Dropping reviews which are repeated"
   ]
  },
  {
   "cell_type": "code",
   "execution_count": 127,
   "metadata": {},
   "outputs": [
    {
     "data": {
      "text/plain": [
       "'good flavor.'"
      ]
     },
     "execution_count": 127,
     "metadata": {},
     "output_type": "execute_result"
    }
   ],
   "source": [
    "data.reviews_text[1]"
   ]
  },
  {
   "cell_type": "code",
   "execution_count": 128,
   "metadata": {},
   "outputs": [],
   "source": [
    "#data['tittex'] = data.reviews_title+'. '+data.reviews_text # This reduced the accuracy; revoked to just the text"
   ]
  },
  {
   "cell_type": "code",
   "execution_count": 129,
   "metadata": {},
   "outputs": [],
   "source": [
    "data['id+name'] = data.id + ';'+ data.name"
   ]
  },
  {
   "cell_type": "code",
   "execution_count": 130,
   "metadata": {},
   "outputs": [],
   "source": [
    "data.to_csv(\"D:/capestone_project/2-Data/final/sample30_cleaned.csv\")"
   ]
  },
  {
   "cell_type": "markdown",
   "metadata": {},
   "source": [
    "## Text preprocess"
   ]
  },
  {
   "cell_type": "code",
   "execution_count": 24,
   "metadata": {},
   "outputs": [],
   "source": [
    "import seaborn as sns\n",
    "\n",
    "import nltk\n",
    "from nltk.tokenize import word_tokenize\n",
    "\n",
    "from nltk.corpus import stopwords\n",
    "stop_words = stopwords.words('english')\n",
    "\n",
    "from nltk.stem.wordnet import WordNetLemmatizer\n",
    "from nltk.corpus import wordnet\n",
    "from nltk.stem import SnowballStemmer"
   ]
  },
  {
   "cell_type": "code",
   "execution_count": 25,
   "metadata": {},
   "outputs": [],
   "source": [
    "# Data that is to be used for sentiment analysis\n",
    "nlp_data = data.loc[:,['reviews_text','user_senti_encode']]"
   ]
  },
  {
   "cell_type": "code",
   "execution_count": 26,
   "metadata": {},
   "outputs": [
    {
     "data": {
      "text/plain": [
       "<matplotlib.axes._subplots.AxesSubplot at 0x1667099cb08>"
      ]
     },
     "execution_count": 26,
     "metadata": {},
     "output_type": "execute_result"
    },
    {
     "data": {
      "image/png": "[encoded data removed]",
      "text/plain": [
       "<Figure size 432x288 with 1 Axes>"
      ]
     },
     "metadata": {
      "needs_background": "light"
     },
     "output_type": "display_data"
    }
   ],
   "source": [
    "sns.countplot(x='user_senti_encode', data=nlp_data) # High class imbalance"
   ]
  },
  {
   "cell_type": "code",
   "execution_count": 27,
   "metadata": {},
   "outputs": [],
   "source": [
    "# If there are any missing entries, then we can remove that row\n",
    "#nlp_data.text.fillna(value='are',inplace=True)\n",
    "nlp_data.dropna(inplace = True)"
   ]
  },
  {
   "cell_type": "code",
   "execution_count": 28,
   "metadata": {},
   "outputs": [],
   "source": [
    "# Remove the not from the list as its always usefull\n",
    "stop_words.remove('not')\n",
    "stop_words.remove('don')\n",
    "stop_words.append('influenster')\n",
    "stop_words.append('promotion')"
   ]
  },
  {
   "cell_type": "code",
   "execution_count": 29,
   "metadata": {},
   "outputs": [],
   "source": [
    "# cleans a sentence that is passed, notice that stemming/lammetization is yet to be done\n",
    "def nlp_preprocesser(sentence):\n",
    "    #print(sentence)\n",
    "    #sentence = re.sub(' +', ' ',sentence.strip()) # Removes the white spaces\n",
    "    words = word_tokenize(sentence)\n",
    "    #Remove punctuation \n",
    "    words=[word for word in words if word.isalpha()]\n",
    "    words = [word for word in words if not word in stop_words]\n",
    "    # Removing the proper nouns from the text\n",
    "    words = nltk.pos_tag(words)\n",
    "    words = [text for (text,pos) in words if pos != 'NNP']# Proper noun\n",
    "   \n",
    "    words = \" \".join(words)# Join to save space\n",
    "    return words # Returns clean text"
   ]
  },
  {
   "cell_type": "code",
   "execution_count": 30,
   "metadata": {},
   "outputs": [],
   "source": [
    "# 1st stage of preprocessed text\n",
    "nlp_data['preprocessed_text']=pd.Series(nlp_data.reviews_text).apply(nlp_preprocesser)"
   ]
  },
  {
   "cell_type": "code",
   "execution_count": 31,
   "metadata": {},
   "outputs": [],
   "source": [
    "lemmatizer = nltk.stem.WordNetLemmatizer()"
   ]
  },
  {
   "cell_type": "code",
   "execution_count": 32,
   "metadata": {},
   "outputs": [],
   "source": [
    "# USed to convert the pos tags to terms, the lemmatizer understands\n",
    "def nltk_tag_to_wordnet_tag(nltk_tag):\n",
    "    if nltk_tag.startswith('J'):\n",
    "        return wordnet.ADJ\n",
    "    elif nltk_tag.startswith('V'):\n",
    "        return wordnet.VERB\n",
    "    elif nltk_tag.startswith('N'):\n",
    "        return wordnet.NOUN\n",
    "    elif nltk_tag.startswith('R'):\n",
    "        return wordnet.ADV\n",
    "    else:\n",
    "        return None"
   ]
  },
  {
   "cell_type": "code",
   "execution_count": 33,
   "metadata": {},
   "outputs": [],
   "source": [
    "import random\n",
    "def sent_lemmatizer(sentence):\n",
    "    #tokenize the sentence and find the POS tag for each token\n",
    "    #n_of_words = 150 # Restrics the number of words to 10 # this is not efiicient, so remove it\n",
    "    words = word_tokenize(sentence)\n",
    "    words = nltk.pos_tag(words)\n",
    "    # Convert the nltk taggs to wordnet tags\n",
    "    words = map(lambda x: (x[0], nltk_tag_to_wordnet_tag(x[1])), words)\n",
    "    lemmatized_sentence = []\n",
    "    for word, tag in words:\n",
    "        if tag is None:\n",
    "            #if there is no available tag, append the token as is\n",
    "            lemmatized_sentence.append(word)\n",
    "        else:\n",
    "            #else use the tag to lemmatize the token\n",
    "            lemmatized_sentence.append(lemmatizer.lemmatize(word, tag))\n",
    "   # Restricts the number of words to n_of_words \n",
    "    #if len(lemmatized_sentence) >= n_of_words:\n",
    "    #    lemmatized_sentence = random.sample(lemmatized_sentence,n_of_words)\n",
    "    return \" \".join(lemmatized_sentence)"
   ]
  },
  {
   "cell_type": "code",
   "execution_count": 34,
   "metadata": {},
   "outputs": [],
   "source": [
    "nlp_data['lemmatized_text'] = pd.Series(nlp_data.preprocessed_text).apply(sent_lemmatizer)"
   ]
  },
  {
   "cell_type": "markdown",
   "metadata": {},
   "source": [
    "**Limiting the text length.**"
   ]
  },
  {
   "cell_type": "code",
   "execution_count": 35,
   "metadata": {},
   "outputs": [
    {
     "data": {
      "text/plain": [
       "'receive product complimentary really saved hair product really give extra boost health strength bring hair back life help hair many way'"
      ]
     },
     "execution_count": 35,
     "metadata": {},
     "output_type": "execute_result"
    }
   ],
   "source": [
    "nlp_data['lemmatized_text'][29999    ]"
   ]
  },
  {
   "cell_type": "code",
   "execution_count": 36,
   "metadata": {},
   "outputs": [],
   "source": [
    "nlp_data.to_csv(\"D:/capestone_project/2-Data/final/nlp_data.csv\")"
   ]
  },
  {
   "cell_type": "markdown",
   "metadata": {},
   "source": [
    "## Tf-idf vectoriser|"
   ]
  },
  {
   "cell_type": "code",
   "execution_count": 37,
   "metadata": {},
   "outputs": [],
   "source": [
    "from sklearn.model_selection import train_test_split\n",
    "\n",
    "\n",
    "from sklearn.feature_extraction.text import TfidfVectorizer\n",
    "from sklearn.feature_extraction.text import CountVectorizer\n",
    "\n",
    "import imblearn\n",
    "import pickle\n",
    "from datetime import datetime"
   ]
  },
  {
   "cell_type": "code",
   "execution_count": 38,
   "metadata": {},
   "outputs": [],
   "source": [
    "nlp_data.dropna(inplace=True)"
   ]
  },
  {
   "cell_type": "code",
   "execution_count": 39,
   "metadata": {},
   "outputs": [],
   "source": [
    "X_train, X_test, y_train,y_test = train_test_split(nlp_data.lemmatized_text,nlp_data.user_senti_encode,test_size = 0.2,random_state =17)"
   ]
  },
  {
   "cell_type": "code",
   "execution_count": 40,
   "metadata": {},
   "outputs": [],
   "source": [
    "tf_idf_vectoriser = TfidfVectorizer(ngram_range = (1,2),\n",
    "                                    strip_accents='unicode',\n",
    "                                    min_df = 20, max_df = 0.5,\n",
    "                                   sublinear_tf=True) # an bigram would have \"not ___\" this would really improve the accuracy\n",
    "# a word whe  considered should have atleast shown up in 5 of the documents in order to be vectorised. And should nt be there in more than 50% of the docs"
   ]
  },
  {
   "cell_type": "code",
   "execution_count": 41,
   "metadata": {},
   "outputs": [],
   "source": [
    "X_train_vector = tf_idf_vectoriser.fit_transform(X_train)#.toarray().astype(np.uint8) # fit transform train, so that we can fix the class imbalance"
   ]
  },
  {
   "cell_type": "code",
   "execution_count": 42,
   "metadata": {},
   "outputs": [],
   "source": [
    "# tfIdf saver\n",
    "date = datetime.now().strftime(\"%Y_%m_%d-%I_%M_%S_%p\")\n",
    "filename = f'D:/capestone_project/2-Data/final/tf_idf_{date}.sav'\n",
    "pickle.dump(tf_idf_vectoriser, open(filename, 'wb'))"
   ]
  },
  {
   "cell_type": "code",
   "execution_count": 43,
   "metadata": {},
   "outputs": [],
   "source": [
    "X_test_vector = tf_idf_vectoriser.transform(X_test)#.toarray().astype(np.uint8) # Transforming the test data"
   ]
  },
  {
   "cell_type": "code",
   "execution_count": 44,
   "metadata": {},
   "outputs": [],
   "source": [
    "# SMOTE used to fix the class imbalance in the training\n",
    "class_imb = imblearn.over_sampling.SMOTE()"
   ]
  },
  {
   "cell_type": "code",
   "execution_count": 45,
   "metadata": {},
   "outputs": [],
   "source": [
    "X_train_vector_imb, y_train_imb = class_imb.fit_resample(X_train_vector,y_train)"
   ]
  },
  {
   "cell_type": "code",
   "execution_count": 46,
   "metadata": {},
   "outputs": [],
   "source": [
    "X_test_vector_imb, y_test_imb = class_imb.fit_resample(X_test_vector,y_test)"
   ]
  },
  {
   "cell_type": "code",
   "execution_count": 47,
   "metadata": {},
   "outputs": [
    {
     "data": {
      "text/plain": [
       "1    19531\n",
       "0    19531\n",
       "Name: user_senti_encode, dtype: int64"
      ]
     },
     "execution_count": 47,
     "metadata": {},
     "output_type": "execute_result"
    }
   ],
   "source": [
    "# Check if imbalance is sorted\n",
    "y_train_imb.value_counts()"
   ]
  },
  {
   "cell_type": "code",
   "execution_count": null,
   "metadata": {},
   "outputs": [],
   "source": []
  },
  {
   "cell_type": "markdown",
   "metadata": {},
   "source": [
    "## Senti models\n",
    "### LogReg"
   ]
  },
  {
   "cell_type": "code",
   "execution_count": 48,
   "metadata": {},
   "outputs": [],
   "source": [
    "from sklearn.metrics import confusion_matrix, classification_report, accuracy_score # to evaluvate the model\n",
    "from sklearn.linear_model import LogisticRegression\n",
    "\n",
    "from sklearn.ensemble import RandomForestClassifier\n",
    "from sklearn.model_selection import GridSearchCV"
   ]
  },
  {
   "cell_type": "code",
   "execution_count": 49,
   "metadata": {},
   "outputs": [
    {
     "data": {
      "text/plain": [
       "LogisticRegression()"
      ]
     },
     "execution_count": 49,
     "metadata": {},
     "output_type": "execute_result"
    }
   ],
   "source": [
    "# Initiate log regression\n",
    "log_reg = LogisticRegression()\n",
    "log_reg.fit(X_train_vector_imb,y_train_imb) # Training the model"
   ]
  },
  {
   "cell_type": "code",
   "execution_count": 50,
   "metadata": {},
   "outputs": [
    {
     "name": "stdout",
     "output_type": "stream",
     "text": [
      "Train Accuracy(LOG_REG): 0.9584250678408683\n",
      "              precision    recall  f1-score   support\n",
      "\n",
      "           0       0.97      0.94      0.96     20135\n",
      "           1       0.94      0.97      0.96     18927\n",
      "\n",
      "    accuracy                           0.96     39062\n",
      "   macro avg       0.96      0.96      0.96     39062\n",
      "weighted avg       0.96      0.96      0.96     39062\n",
      "\n"
     ]
    }
   ],
   "source": [
    "# Evaluvation of the model on train\n",
    "y_pred_train = log_reg.predict(X_train_vector_imb)\n",
    "print(\"Train Accuracy(LOG_REG):\", accuracy_score(y_pred_train, y_train_imb))\n",
    "print(classification_report(y_pred_train, y_train_imb))"
   ]
  },
  {
   "cell_type": "code",
   "execution_count": 51,
   "metadata": {},
   "outputs": [
    {
     "name": "stdout",
     "output_type": "stream",
     "text": [
      "Test Accuracy(LOG_REG): 0.9367698298831728\n",
      "              precision    recall  f1-score   support\n",
      "\n",
      "           0       0.94      0.93      0.94      4932\n",
      "           1       0.93      0.94      0.94      4826\n",
      "\n",
      "    accuracy                           0.94      9758\n",
      "   macro avg       0.94      0.94      0.94      9758\n",
      "weighted avg       0.94      0.94      0.94      9758\n",
      "\n"
     ]
    }
   ],
   "source": [
    "# Evaluvation of the model on test\n",
    "y_pred_test = log_reg.predict(X_test_vector_imb)\n",
    "print(\"Test Accuracy(LOG_REG):\", accuracy_score(y_pred_test, y_test_imb))\n",
    "print(classification_report(y_pred_test, y_test_imb))"
   ]
  },
  {
   "cell_type": "code",
   "execution_count": 52,
   "metadata": {},
   "outputs": [
    {
     "name": "stdout",
     "output_type": "stream",
     "text": [
      "0.9368213757663697\n"
     ]
    }
   ],
   "source": [
    "# To check the auc score\n",
    "from sklearn.metrics import roc_auc_score \n",
    "y_pred_test = log_reg.predict(X_test_vector_imb)\n",
    "print( roc_auc_score(y_pred_test, y_test_imb))"
   ]
  },
  {
   "cell_type": "code",
   "execution_count": 53,
   "metadata": {},
   "outputs": [],
   "source": [
    "# Model saver # Log reg performs the best, in comparison to the other two models\n",
    "date = datetime.now().strftime(\"%Y_%m_%d-%I_%M_%S_%p\")\n",
    "filename = f'D:/capestone_project/2-Data/final/log_reg_{date}.sav'\n",
    "pickle.dump(log_reg, open(filename, 'wb'))"
   ]
  },
  {
   "cell_type": "markdown",
   "metadata": {},
   "source": [
    "### Naive"
   ]
  },
  {
   "cell_type": "code",
   "execution_count": 52,
   "metadata": {},
   "outputs": [],
   "source": [
    "from sklearn.naive_bayes import MultinomialNB\n",
    "model = MultinomialNB()"
   ]
  },
  {
   "cell_type": "code",
   "execution_count": 53,
   "metadata": {},
   "outputs": [
    {
     "data": {
      "text/plain": [
       "MultinomialNB()"
      ]
     },
     "execution_count": 53,
     "metadata": {},
     "output_type": "execute_result"
    }
   ],
   "source": [
    "model.fit(X_train_vector_imb.toarray(),y_train_imb)"
   ]
  },
  {
   "cell_type": "code",
   "execution_count": 55,
   "metadata": {},
   "outputs": [
    {
     "name": "stdout",
     "output_type": "stream",
     "text": [
      "Test Accuracy(LOG_REG): 0.8523018997090536\n",
      "              precision    recall  f1-score   support\n",
      "\n",
      "           0       0.76      0.43      0.55      1229\n",
      "           1       0.86      0.96      0.91      4614\n",
      "\n",
      "    accuracy                           0.85      5843\n",
      "   macro avg       0.81      0.70      0.73      5843\n",
      "weighted avg       0.84      0.85      0.84      5843\n",
      "\n"
     ]
    }
   ],
   "source": [
    "# Evaluvation of the model on test\n",
    "y_pred_test = model.predict(X_test_vector.toarray())\n",
    "print(\"Test Accuracy(Naive):\", accuracy_score(y_pred_test, y_test))\n",
    "print(classification_report(y_pred_test, y_test))"
   ]
  },
  {
   "cell_type": "code",
   "execution_count": 198,
   "metadata": {},
   "outputs": [
    {
     "name": "stdout",
     "output_type": "stream",
     "text": [
      "Train Accuracy(LOG_REG): 0.8769137889398696\n",
      "              precision    recall  f1-score   support\n",
      "\n",
      "           0       0.88      0.88      0.88     20704\n",
      "           1       0.88      0.88      0.88     20706\n",
      "\n",
      "    accuracy                           0.88     41410\n",
      "   macro avg       0.88      0.88      0.88     41410\n",
      "weighted avg       0.88      0.88      0.88     41410\n",
      "\n"
     ]
    }
   ],
   "source": [
    "# Evaluvation of the model on train\n",
    "y_pred_train = model.predict(X_train_vector_imb.toarray())\n",
    "print(\"Train Accuracy(Naive):\", accuracy_score(y_pred_train, y_train_imb))\n",
    "print(classification_report(y_pred_train, y_train_imb))"
   ]
  },
  {
   "cell_type": "markdown",
   "metadata": {},
   "source": [
    "### RF"
   ]
  },
  {
   "cell_type": "code",
   "execution_count": 199,
   "metadata": {},
   "outputs": [],
   "source": [
    "model_rf = RandomForestClassifier(random_state=17, n_jobs=-1)"
   ]
  },
  {
   "cell_type": "code",
   "execution_count": 200,
   "metadata": {},
   "outputs": [],
   "source": [
    "params = {'max_depth':[40,50,60],\n",
    "         'min_samples_leaf': [3,5],\n",
    "         'max_features': [50,60],\n",
    "         'n_estimators': [200,300,400]}"
   ]
  },
  {
   "cell_type": "code",
   "execution_count": 201,
   "metadata": {},
   "outputs": [],
   "source": [
    "grid_search = GridSearchCV(estimator = model_rf, param_grid = params, cv = 4, n_jobs = -1, verbose = 1, scoring = 'accuracy' )"
   ]
  },
  {
   "cell_type": "code",
   "execution_count": 202,
   "metadata": {},
   "outputs": [
    {
     "name": "stdout",
     "output_type": "stream",
     "text": [
      "Fitting 4 folds for each of 36 candidates, totalling 144 fits\n",
      "Wall time: 1h 14min 18s\n"
     ]
    },
    {
     "data": {
      "text/plain": [
       "GridSearchCV(cv=4, estimator=RandomForestClassifier(n_jobs=-1, random_state=17),\n",
       "             n_jobs=-1,\n",
       "             param_grid={'max_depth': [40, 50, 60], 'max_features': [50, 60],\n",
       "                         'min_samples_leaf': [3, 5],\n",
       "                         'n_estimators': [200, 300, 400]},\n",
       "             scoring='accuracy', verbose=1)"
      ]
     },
     "execution_count": 202,
     "metadata": {},
     "output_type": "execute_result"
    }
   ],
   "source": [
    "%%time\n",
    "grid_search.fit(X_train_vector_imb,y_train_imb)"
   ]
  },
  {
   "cell_type": "code",
   "execution_count": 203,
   "metadata": {},
   "outputs": [],
   "source": [
    "rf_best = grid_search.best_estimator_"
   ]
  },
  {
   "cell_type": "code",
   "execution_count": 204,
   "metadata": {},
   "outputs": [
    {
     "data": {
      "text/plain": [
       "RandomForestClassifier(max_depth=60, max_features=60, min_samples_leaf=3,\n",
       "                       n_estimators=300, n_jobs=-1, random_state=17)"
      ]
     },
     "execution_count": 204,
     "metadata": {},
     "output_type": "execute_result"
    }
   ],
   "source": [
    "rf_best"
   ]
  },
  {
   "cell_type": "code",
   "execution_count": 205,
   "metadata": {},
   "outputs": [
    {
     "name": "stdout",
     "output_type": "stream",
     "text": [
      "Test Accuracy(LOG_REG): 0.9156255348279994\n",
      "              precision    recall  f1-score   support\n",
      "\n",
      "           0       0.69      0.64      0.66       765\n",
      "           1       0.95      0.96      0.95      5078\n",
      "\n",
      "    accuracy                           0.92      5843\n",
      "   macro avg       0.82      0.80      0.81      5843\n",
      "weighted avg       0.91      0.92      0.91      5843\n",
      "\n"
     ]
    }
   ],
   "source": [
    "# Evaluvation of the model on test\n",
    "y_pred_test = rf_best.predict(X_test_vector)\n",
    "\n",
    "\n",
    "print(\"Test Accuracy(RF):\", accuracy_score(y_pred_test, y_test))\n",
    "print(classification_report(y_pred_test, y_test))"
   ]
  },
  {
   "cell_type": "code",
   "execution_count": 206,
   "metadata": {},
   "outputs": [
    {
     "name": "stdout",
     "output_type": "stream",
     "text": [
      "Train Accuracy(LOG_REG): 0.9702004346776141\n",
      "              precision    recall  f1-score   support\n",
      "\n",
      "           0       0.98      0.96      0.97     21121\n",
      "           1       0.96      0.98      0.97     20289\n",
      "\n",
      "    accuracy                           0.97     41410\n",
      "   macro avg       0.97      0.97      0.97     41410\n",
      "weighted avg       0.97      0.97      0.97     41410\n",
      "\n"
     ]
    }
   ],
   "source": [
    "# Evaluvation of the model on train\n",
    "y_pred_train = rf_best.predict(X_train_vector_imb)\n",
    "\n",
    "\n",
    "print(\"Train Accuracy(RF):\", accuracy_score(y_pred_train, y_train_imb))\n",
    "print(classification_report(y_pred_train, y_train_imb))"
   ]
  },
  {
   "cell_type": "markdown",
   "metadata": {},
   "source": [
    "# Recommender system"
   ]
  },
  {
   "cell_type": "code",
   "execution_count": 54,
   "metadata": {},
   "outputs": [],
   "source": [
    "import matplotlib.pyplot as plt\n",
    "\n",
    "from sklearn.metrics.pairwise import pairwise_distances # For findin the cosine sismilarity"
   ]
  },
  {
   "cell_type": "code",
   "execution_count": 55,
   "metadata": {},
   "outputs": [],
   "source": [
    "data =  pd.read_csv(r'D:/capestone_project/2-Data/final/sample30_cleaned.csv')"
   ]
  },
  {
   "cell_type": "code",
   "execution_count": 56,
   "metadata": {},
   "outputs": [
    {
     "data": {
      "text/plain": [
       "51"
      ]
     },
     "execution_count": 56,
     "metadata": {},
     "output_type": "execute_result"
    }
   ],
   "source": [
    "data.reviews_username.isnull().sum()"
   ]
  },
  {
   "cell_type": "code",
   "execution_count": 57,
   "metadata": {},
   "outputs": [],
   "source": [
    "data.dropna(subset = ['reviews_username'],inplace = True)"
   ]
  },
  {
   "cell_type": "code",
   "execution_count": 58,
   "metadata": {},
   "outputs": [
    {
     "data": {
      "text/plain": [
       "27408"
      ]
     },
     "execution_count": 58,
     "metadata": {},
     "output_type": "execute_result"
    }
   ],
   "source": [
    "# Lets see if these provinec and city are of any use\n",
    "data.reviews_userProvince.isnull().sum()\n",
    "# Mostly null both city as well as province, so not much of use"
   ]
  },
  {
   "cell_type": "code",
   "execution_count": 59,
   "metadata": {},
   "outputs": [
    {
     "data": {
      "text/plain": [
       "5    19827\n",
       "4     5568\n",
       "3     1232\n",
       "1      468\n",
       "2      378\n",
       "Name: reviews_rating, dtype: int64"
      ]
     },
     "execution_count": 59,
     "metadata": {},
     "output_type": "execute_result"
    }
   ],
   "source": [
    "data.reviews_rating.value_counts() # Just seeing the spread"
   ]
  },
  {
   "cell_type": "code",
   "execution_count": 60,
   "metadata": {},
   "outputs": [
    {
     "data": {
      "text/plain": [
       "<matplotlib.axes._subplots.AxesSubplot at 0x1666c3825c8>"
      ]
     },
     "execution_count": 60,
     "metadata": {},
     "output_type": "execute_result"
    },
    {
     "data": {
      "image/png": "[encoded data removed]",
      "text/plain": [
       "<Figure size 432x288 with 1 Axes>"
      ]
     },
     "metadata": {
      "needs_background": "light"
     },
     "output_type": "display_data"
    }
   ],
   "source": [
    "sns.countplot(data.reviews_rating) # There is class imbalance, here as well. But there is nothing we can do about it"
   ]
  },
  {
   "cell_type": "code",
   "execution_count": 61,
   "metadata": {},
   "outputs": [
    {
     "data": {
      "text/plain": [
       "Index(['mike', 'byamazon customer', 'chris', 'lisa', 'tony', 'sandy', 'rick',\n",
       "       'john', 'james', 'jojo',\n",
       "       ...\n",
       "       'sja0826', 'tmox', 'chesneesherrie', 'chrispert', 'angikb', 'chrisvt',\n",
       "       'booger', 'mander', 'se90', 'robbyrob53'],\n",
       "      dtype='object', length=24367)"
      ]
     },
     "execution_count": 61,
     "metadata": {},
     "output_type": "execute_result"
    }
   ],
   "source": [
    "# All the usernames with just one review\n",
    "(data.reviews_username.value_counts()==1).index"
   ]
  },
  {
   "cell_type": "code",
   "execution_count": 62,
   "metadata": {},
   "outputs": [],
   "source": [
    "data.drop_duplicates(subset=['reviews_username','id'],keep = 'first',inplace=True) # same user same product."
   ]
  },
  {
   "cell_type": "code",
   "execution_count": 63,
   "metadata": {},
   "outputs": [
    {
     "data": {
      "text/plain": [
       "Text(0.5, 1.0, 'number of unique entries')"
      ]
     },
     "execution_count": 63,
     "metadata": {},
     "output_type": "execute_result"
    },
    {
     "data": {
      "image/png": "[encoded data removed]",
      "text/plain": [
       "<Figure size 432x288 with 1 Axes>"
      ]
     },
     "metadata": {
      "needs_background": "light"
     },
     "output_type": "display_data"
    }
   ],
   "source": [
    "# Should I do an user-user or item-item recommneder\n",
    "unique_values = [len(data.id.unique()),len(data.reviews_username)]\n",
    "unique_entries = ['id','usr_name']\n",
    "plt.bar(unique_entries, unique_values)\n",
    "plt.title('number of unique entries')"
   ]
  },
  {
   "cell_type": "code",
   "execution_count": 64,
   "metadata": {},
   "outputs": [],
   "source": [
    "train, test = train_test_split(data, test_size=0.20, random_state=17) # Devide into test-train for the recommendation system"
   ]
  },
  {
   "cell_type": "code",
   "execution_count": 65,
   "metadata": {},
   "outputs": [],
   "source": [
    "train = data"
   ]
  },
  {
   "cell_type": "markdown",
   "metadata": {},
   "source": [
    "As the item-item's correlation matrix ould be smaller and this would be more accurate as this aspect much more dense than the user-user method. I start with item-item recommendastion system. \n",
    "## Item-Item recommendation system"
   ]
  },
  {
   "cell_type": "code",
   "execution_count": 66,
   "metadata": {},
   "outputs": [
    {
     "data": {
      "text/html": [
       "<div>\n",
       "<style scoped>\n",
       "    .dataframe tbody tr th:only-of-type {\n",
       "        vertical-align: middle;\n",
       "    }\n",
       "\n",
       "    .dataframe tbody tr th {\n",
       "        vertical-align: top;\n",
       "    }\n",
       "\n",
       "    .dataframe thead th {\n",
       "        text-align: right;\n",
       "    }\n",
       "</style>\n",
       "<table border=\"1\" class=\"dataframe\">\n",
       "  <thead>\n",
       "    <tr style=\"text-align: right;\">\n",
       "      <th>reviews_username</th>\n",
       "      <th>00dog3</th>\n",
       "      <th>00sab00</th>\n",
       "      <th>01impala</th>\n",
       "      <th>02dakota</th>\n",
       "      <th>02deuce</th>\n",
       "      <th>0325home</th>\n",
       "      <th>06stidriver</th>\n",
       "      <th>08dallas</th>\n",
       "      <th>09mommy11</th>\n",
       "      <th>1.11E+24</th>\n",
       "      <th>...</th>\n",
       "      <th>zt313</th>\n",
       "      <th>zubb</th>\n",
       "      <th>zulaa118</th>\n",
       "      <th>zuttle</th>\n",
       "      <th>zwithanx</th>\n",
       "      <th>zxcsdfd</th>\n",
       "      <th>zxjki</th>\n",
       "      <th>zyiah4</th>\n",
       "      <th>zzdiane</th>\n",
       "      <th>zzz1127</th>\n",
       "    </tr>\n",
       "    <tr>\n",
       "      <th>id</th>\n",
       "      <th></th>\n",
       "      <th></th>\n",
       "      <th></th>\n",
       "      <th></th>\n",
       "      <th></th>\n",
       "      <th></th>\n",
       "      <th></th>\n",
       "      <th></th>\n",
       "      <th></th>\n",
       "      <th></th>\n",
       "      <th></th>\n",
       "      <th></th>\n",
       "      <th></th>\n",
       "      <th></th>\n",
       "      <th></th>\n",
       "      <th></th>\n",
       "      <th></th>\n",
       "      <th></th>\n",
       "      <th></th>\n",
       "      <th></th>\n",
       "      <th></th>\n",
       "    </tr>\n",
       "  </thead>\n",
       "  <tbody>\n",
       "    <tr>\n",
       "      <th>AVpfewoLilAPnD_xcfgU</th>\n",
       "      <td>0.0</td>\n",
       "      <td>0.0</td>\n",
       "      <td>0.0</td>\n",
       "      <td>0.0</td>\n",
       "      <td>0.0</td>\n",
       "      <td>0.0</td>\n",
       "      <td>0.0</td>\n",
       "      <td>0.0</td>\n",
       "      <td>0.0</td>\n",
       "      <td>0.0</td>\n",
       "      <td>...</td>\n",
       "      <td>0.0</td>\n",
       "      <td>0.0</td>\n",
       "      <td>0.0</td>\n",
       "      <td>0.0</td>\n",
       "      <td>0.0</td>\n",
       "      <td>0.0</td>\n",
       "      <td>0.0</td>\n",
       "      <td>0.0</td>\n",
       "      <td>0.0</td>\n",
       "      <td>0.0</td>\n",
       "    </tr>\n",
       "    <tr>\n",
       "      <th>AVpfhpNkilAPnD_xdUZz</th>\n",
       "      <td>0.0</td>\n",
       "      <td>0.0</td>\n",
       "      <td>0.0</td>\n",
       "      <td>0.0</td>\n",
       "      <td>0.0</td>\n",
       "      <td>0.0</td>\n",
       "      <td>0.0</td>\n",
       "      <td>0.0</td>\n",
       "      <td>0.0</td>\n",
       "      <td>0.0</td>\n",
       "      <td>...</td>\n",
       "      <td>0.0</td>\n",
       "      <td>0.0</td>\n",
       "      <td>0.0</td>\n",
       "      <td>0.0</td>\n",
       "      <td>0.0</td>\n",
       "      <td>0.0</td>\n",
       "      <td>0.0</td>\n",
       "      <td>0.0</td>\n",
       "      <td>0.0</td>\n",
       "      <td>0.0</td>\n",
       "    </tr>\n",
       "    <tr>\n",
       "      <th>AVpfPKzxLJeJML435SYL</th>\n",
       "      <td>0.0</td>\n",
       "      <td>0.0</td>\n",
       "      <td>0.0</td>\n",
       "      <td>0.0</td>\n",
       "      <td>0.0</td>\n",
       "      <td>0.0</td>\n",
       "      <td>0.0</td>\n",
       "      <td>0.0</td>\n",
       "      <td>0.0</td>\n",
       "      <td>0.0</td>\n",
       "      <td>...</td>\n",
       "      <td>0.0</td>\n",
       "      <td>0.0</td>\n",
       "      <td>0.0</td>\n",
       "      <td>0.0</td>\n",
       "      <td>0.0</td>\n",
       "      <td>0.0</td>\n",
       "      <td>0.0</td>\n",
       "      <td>0.0</td>\n",
       "      <td>0.0</td>\n",
       "      <td>0.0</td>\n",
       "    </tr>\n",
       "    <tr>\n",
       "      <th>AVpf-bS61cnluZ0-uZcq</th>\n",
       "      <td>0.0</td>\n",
       "      <td>0.0</td>\n",
       "      <td>0.0</td>\n",
       "      <td>0.0</td>\n",
       "      <td>0.0</td>\n",
       "      <td>0.0</td>\n",
       "      <td>0.0</td>\n",
       "      <td>0.0</td>\n",
       "      <td>0.0</td>\n",
       "      <td>0.0</td>\n",
       "      <td>...</td>\n",
       "      <td>0.0</td>\n",
       "      <td>0.0</td>\n",
       "      <td>0.0</td>\n",
       "      <td>0.0</td>\n",
       "      <td>0.0</td>\n",
       "      <td>0.0</td>\n",
       "      <td>0.0</td>\n",
       "      <td>0.0</td>\n",
       "      <td>0.0</td>\n",
       "      <td>0.0</td>\n",
       "    </tr>\n",
       "    <tr>\n",
       "      <th>AVpe59io1cnluZ0-ZgDU</th>\n",
       "      <td>0.0</td>\n",
       "      <td>3.0</td>\n",
       "      <td>0.0</td>\n",
       "      <td>0.0</td>\n",
       "      <td>0.0</td>\n",
       "      <td>0.0</td>\n",
       "      <td>0.0</td>\n",
       "      <td>0.0</td>\n",
       "      <td>0.0</td>\n",
       "      <td>0.0</td>\n",
       "      <td>...</td>\n",
       "      <td>0.0</td>\n",
       "      <td>0.0</td>\n",
       "      <td>0.0</td>\n",
       "      <td>0.0</td>\n",
       "      <td>0.0</td>\n",
       "      <td>0.0</td>\n",
       "      <td>0.0</td>\n",
       "      <td>0.0</td>\n",
       "      <td>5.0</td>\n",
       "      <td>0.0</td>\n",
       "    </tr>\n",
       "  </tbody>\n",
       "</table>\n",
       "<p>5 rows × 24367 columns</p>\n",
       "</div>"
      ],
      "text/plain": [
       "reviews_username      00dog3  00sab00  01impala  02dakota  02deuce  0325home  \\\n",
       "id                                                                             \n",
       "AVpfewoLilAPnD_xcfgU     0.0      0.0       0.0       0.0      0.0       0.0   \n",
       "AVpfhpNkilAPnD_xdUZz     0.0      0.0       0.0       0.0      0.0       0.0   \n",
       "AVpfPKzxLJeJML435SYL     0.0      0.0       0.0       0.0      0.0       0.0   \n",
       "AVpf-bS61cnluZ0-uZcq     0.0      0.0       0.0       0.0      0.0       0.0   \n",
       "AVpe59io1cnluZ0-ZgDU     0.0      3.0       0.0       0.0      0.0       0.0   \n",
       "\n",
       "reviews_username      06stidriver  08dallas  09mommy11  1.11E+24  ...  zt313  \\\n",
       "id                                                                ...          \n",
       "AVpfewoLilAPnD_xcfgU          0.0       0.0        0.0       0.0  ...    0.0   \n",
       "AVpfhpNkilAPnD_xdUZz          0.0       0.0        0.0       0.0  ...    0.0   \n",
       "AVpfPKzxLJeJML435SYL          0.0       0.0        0.0       0.0  ...    0.0   \n",
       "AVpf-bS61cnluZ0-uZcq          0.0       0.0        0.0       0.0  ...    0.0   \n",
       "AVpe59io1cnluZ0-ZgDU          0.0       0.0        0.0       0.0  ...    0.0   \n",
       "\n",
       "reviews_username      zubb  zulaa118  zuttle  zwithanx  zxcsdfd  zxjki  \\\n",
       "id                                                                       \n",
       "AVpfewoLilAPnD_xcfgU   0.0       0.0     0.0       0.0      0.0    0.0   \n",
       "AVpfhpNkilAPnD_xdUZz   0.0       0.0     0.0       0.0      0.0    0.0   \n",
       "AVpfPKzxLJeJML435SYL   0.0       0.0     0.0       0.0      0.0    0.0   \n",
       "AVpf-bS61cnluZ0-uZcq   0.0       0.0     0.0       0.0      0.0    0.0   \n",
       "AVpe59io1cnluZ0-ZgDU   0.0       0.0     0.0       0.0      0.0    0.0   \n",
       "\n",
       "reviews_username      zyiah4  zzdiane  zzz1127  \n",
       "id                                              \n",
       "AVpfewoLilAPnD_xcfgU     0.0      0.0      0.0  \n",
       "AVpfhpNkilAPnD_xdUZz     0.0      0.0      0.0  \n",
       "AVpfPKzxLJeJML435SYL     0.0      0.0      0.0  \n",
       "AVpf-bS61cnluZ0-uZcq     0.0      0.0      0.0  \n",
       "AVpe59io1cnluZ0-ZgDU     0.0      5.0      0.0  \n",
       "\n",
       "[5 rows x 24367 columns]"
      ]
     },
     "execution_count": 66,
     "metadata": {},
     "output_type": "execute_result"
    }
   ],
   "source": [
    "train_pivot = train.pivot(index='reviews_username',columns='id',values='reviews_rating').fillna(0).T # Transpose, as we are focused in item-item\n",
    "train_pivot.sample(5)"
   ]
  },
  {
   "cell_type": "code",
   "execution_count": 67,
   "metadata": {},
   "outputs": [],
   "source": [
    "# for finding which of the predictions are new\n",
    "\n",
    "pred_marker = train_pivot.replace(0,6) # summy variable\n",
    "pred_marker = pred_marker.replace([1,2,3,4,5],0) # mark all the records with a review with 0\n",
    "pred_marker = pred_marker.replace(6,1)# these records are yety to be predicted\n",
    "pred_marker = pred_marker.T"
   ]
  },
  {
   "cell_type": "code",
   "execution_count": 68,
   "metadata": {},
   "outputs": [
    {
     "data": {
      "text/html": [
       "<div>\n",
       "<style scoped>\n",
       "    .dataframe tbody tr th:only-of-type {\n",
       "        vertical-align: middle;\n",
       "    }\n",
       "\n",
       "    .dataframe tbody tr th {\n",
       "        vertical-align: top;\n",
       "    }\n",
       "\n",
       "    .dataframe thead th {\n",
       "        text-align: right;\n",
       "    }\n",
       "</style>\n",
       "<table border=\"1\" class=\"dataframe\">\n",
       "  <thead>\n",
       "    <tr style=\"text-align: right;\">\n",
       "      <th>id</th>\n",
       "      <th>AV13O1A8GV-KLJ3akUyj</th>\n",
       "      <th>AV14LG0R-jtxr-f38QfS</th>\n",
       "      <th>AV16khLE-jtxr-f38VFn</th>\n",
       "      <th>AV1YGDqsGV-KLJ3adc-O</th>\n",
       "      <th>AV1YIch7GV-KLJ3addeG</th>\n",
       "      <th>AV1YlENIglJLPUi8IHsX</th>\n",
       "      <th>AV1YmBrdGV-KLJ3adewb</th>\n",
       "      <th>AV1YmDL9vKc47QAVgr7_</th>\n",
       "      <th>AV1Ymf_rglJLPUi8II2v</th>\n",
       "      <th>AV1Yn94nvKc47QAVgtst</th>\n",
       "      <th>...</th>\n",
       "      <th>AVpfrfHF1cnluZ0-pRai</th>\n",
       "      <th>AVpfrgjFLJeJML43BvCc</th>\n",
       "      <th>AVpfs0tUilAPnD_xgqN2</th>\n",
       "      <th>AVpfsQoeilAPnD_xgfx5</th>\n",
       "      <th>AVpfshNsLJeJML43CB8q</th>\n",
       "      <th>AVpfthSailAPnD_xg3ON</th>\n",
       "      <th>AVpftikC1cnluZ0-p31V</th>\n",
       "      <th>AVpftymALJeJML43CZ6y</th>\n",
       "      <th>AVpfv4TlilAPnD_xhjNS</th>\n",
       "      <th>AVpfvieo1cnluZ0-qdnu</th>\n",
       "    </tr>\n",
       "    <tr>\n",
       "      <th>reviews_username</th>\n",
       "      <th></th>\n",
       "      <th></th>\n",
       "      <th></th>\n",
       "      <th></th>\n",
       "      <th></th>\n",
       "      <th></th>\n",
       "      <th></th>\n",
       "      <th></th>\n",
       "      <th></th>\n",
       "      <th></th>\n",
       "      <th></th>\n",
       "      <th></th>\n",
       "      <th></th>\n",
       "      <th></th>\n",
       "      <th></th>\n",
       "      <th></th>\n",
       "      <th></th>\n",
       "      <th></th>\n",
       "      <th></th>\n",
       "      <th></th>\n",
       "      <th></th>\n",
       "    </tr>\n",
       "  </thead>\n",
       "  <tbody>\n",
       "    <tr>\n",
       "      <th>littlemommat</th>\n",
       "      <td>1.0</td>\n",
       "      <td>1.0</td>\n",
       "      <td>1.0</td>\n",
       "      <td>1.0</td>\n",
       "      <td>1.0</td>\n",
       "      <td>1.0</td>\n",
       "      <td>1.0</td>\n",
       "      <td>1.0</td>\n",
       "      <td>1.0</td>\n",
       "      <td>1.0</td>\n",
       "      <td>...</td>\n",
       "      <td>1.0</td>\n",
       "      <td>1.0</td>\n",
       "      <td>1.0</td>\n",
       "      <td>1.0</td>\n",
       "      <td>1.0</td>\n",
       "      <td>1.0</td>\n",
       "      <td>1.0</td>\n",
       "      <td>1.0</td>\n",
       "      <td>1.0</td>\n",
       "      <td>1.0</td>\n",
       "    </tr>\n",
       "    <tr>\n",
       "      <th>bethm</th>\n",
       "      <td>1.0</td>\n",
       "      <td>1.0</td>\n",
       "      <td>1.0</td>\n",
       "      <td>0.0</td>\n",
       "      <td>1.0</td>\n",
       "      <td>1.0</td>\n",
       "      <td>1.0</td>\n",
       "      <td>1.0</td>\n",
       "      <td>1.0</td>\n",
       "      <td>1.0</td>\n",
       "      <td>...</td>\n",
       "      <td>1.0</td>\n",
       "      <td>1.0</td>\n",
       "      <td>1.0</td>\n",
       "      <td>1.0</td>\n",
       "      <td>1.0</td>\n",
       "      <td>1.0</td>\n",
       "      <td>1.0</td>\n",
       "      <td>1.0</td>\n",
       "      <td>1.0</td>\n",
       "      <td>1.0</td>\n",
       "    </tr>\n",
       "    <tr>\n",
       "      <th>mommyjess</th>\n",
       "      <td>1.0</td>\n",
       "      <td>1.0</td>\n",
       "      <td>1.0</td>\n",
       "      <td>1.0</td>\n",
       "      <td>1.0</td>\n",
       "      <td>1.0</td>\n",
       "      <td>1.0</td>\n",
       "      <td>1.0</td>\n",
       "      <td>1.0</td>\n",
       "      <td>1.0</td>\n",
       "      <td>...</td>\n",
       "      <td>1.0</td>\n",
       "      <td>1.0</td>\n",
       "      <td>1.0</td>\n",
       "      <td>1.0</td>\n",
       "      <td>1.0</td>\n",
       "      <td>1.0</td>\n",
       "      <td>1.0</td>\n",
       "      <td>1.0</td>\n",
       "      <td>1.0</td>\n",
       "      <td>1.0</td>\n",
       "    </tr>\n",
       "    <tr>\n",
       "      <th>acarrill93</th>\n",
       "      <td>1.0</td>\n",
       "      <td>1.0</td>\n",
       "      <td>1.0</td>\n",
       "      <td>1.0</td>\n",
       "      <td>1.0</td>\n",
       "      <td>1.0</td>\n",
       "      <td>1.0</td>\n",
       "      <td>1.0</td>\n",
       "      <td>1.0</td>\n",
       "      <td>1.0</td>\n",
       "      <td>...</td>\n",
       "      <td>1.0</td>\n",
       "      <td>1.0</td>\n",
       "      <td>1.0</td>\n",
       "      <td>1.0</td>\n",
       "      <td>1.0</td>\n",
       "      <td>1.0</td>\n",
       "      <td>1.0</td>\n",
       "      <td>1.0</td>\n",
       "      <td>1.0</td>\n",
       "      <td>1.0</td>\n",
       "    </tr>\n",
       "    <tr>\n",
       "      <th>bymalinut</th>\n",
       "      <td>1.0</td>\n",
       "      <td>1.0</td>\n",
       "      <td>1.0</td>\n",
       "      <td>1.0</td>\n",
       "      <td>1.0</td>\n",
       "      <td>1.0</td>\n",
       "      <td>1.0</td>\n",
       "      <td>1.0</td>\n",
       "      <td>1.0</td>\n",
       "      <td>1.0</td>\n",
       "      <td>...</td>\n",
       "      <td>1.0</td>\n",
       "      <td>1.0</td>\n",
       "      <td>1.0</td>\n",
       "      <td>1.0</td>\n",
       "      <td>1.0</td>\n",
       "      <td>1.0</td>\n",
       "      <td>1.0</td>\n",
       "      <td>1.0</td>\n",
       "      <td>1.0</td>\n",
       "      <td>1.0</td>\n",
       "    </tr>\n",
       "  </tbody>\n",
       "</table>\n",
       "<p>5 rows × 269 columns</p>\n",
       "</div>"
      ],
      "text/plain": [
       "id                AV13O1A8GV-KLJ3akUyj  AV14LG0R-jtxr-f38QfS  \\\n",
       "reviews_username                                               \n",
       "littlemommat                       1.0                   1.0   \n",
       "bethm                              1.0                   1.0   \n",
       "mommyjess                          1.0                   1.0   \n",
       "acarrill93                         1.0                   1.0   \n",
       "bymalinut                          1.0                   1.0   \n",
       "\n",
       "id                AV16khLE-jtxr-f38VFn  AV1YGDqsGV-KLJ3adc-O  \\\n",
       "reviews_username                                               \n",
       "littlemommat                       1.0                   1.0   \n",
       "bethm                              1.0                   0.0   \n",
       "mommyjess                          1.0                   1.0   \n",
       "acarrill93                         1.0                   1.0   \n",
       "bymalinut                          1.0                   1.0   \n",
       "\n",
       "id                AV1YIch7GV-KLJ3addeG  AV1YlENIglJLPUi8IHsX  \\\n",
       "reviews_username                                               \n",
       "littlemommat                       1.0                   1.0   \n",
       "bethm                              1.0                   1.0   \n",
       "mommyjess                          1.0                   1.0   \n",
       "acarrill93                         1.0                   1.0   \n",
       "bymalinut                          1.0                   1.0   \n",
       "\n",
       "id                AV1YmBrdGV-KLJ3adewb  AV1YmDL9vKc47QAVgr7_  \\\n",
       "reviews_username                                               \n",
       "littlemommat                       1.0                   1.0   \n",
       "bethm                              1.0                   1.0   \n",
       "mommyjess                          1.0                   1.0   \n",
       "acarrill93                         1.0                   1.0   \n",
       "bymalinut                          1.0                   1.0   \n",
       "\n",
       "id                AV1Ymf_rglJLPUi8II2v  AV1Yn94nvKc47QAVgtst  ...  \\\n",
       "reviews_username                                              ...   \n",
       "littlemommat                       1.0                   1.0  ...   \n",
       "bethm                              1.0                   1.0  ...   \n",
       "mommyjess                          1.0                   1.0  ...   \n",
       "acarrill93                         1.0                   1.0  ...   \n",
       "bymalinut                          1.0                   1.0  ...   \n",
       "\n",
       "id                AVpfrfHF1cnluZ0-pRai  AVpfrgjFLJeJML43BvCc  \\\n",
       "reviews_username                                               \n",
       "littlemommat                       1.0                   1.0   \n",
       "bethm                              1.0                   1.0   \n",
       "mommyjess                          1.0                   1.0   \n",
       "acarrill93                         1.0                   1.0   \n",
       "bymalinut                          1.0                   1.0   \n",
       "\n",
       "id                AVpfs0tUilAPnD_xgqN2  AVpfsQoeilAPnD_xgfx5  \\\n",
       "reviews_username                                               \n",
       "littlemommat                       1.0                   1.0   \n",
       "bethm                              1.0                   1.0   \n",
       "mommyjess                          1.0                   1.0   \n",
       "acarrill93                         1.0                   1.0   \n",
       "bymalinut                          1.0                   1.0   \n",
       "\n",
       "id                AVpfshNsLJeJML43CB8q  AVpfthSailAPnD_xg3ON  \\\n",
       "reviews_username                                               \n",
       "littlemommat                       1.0                   1.0   \n",
       "bethm                              1.0                   1.0   \n",
       "mommyjess                          1.0                   1.0   \n",
       "acarrill93                         1.0                   1.0   \n",
       "bymalinut                          1.0                   1.0   \n",
       "\n",
       "id                AVpftikC1cnluZ0-p31V  AVpftymALJeJML43CZ6y  \\\n",
       "reviews_username                                               \n",
       "littlemommat                       1.0                   1.0   \n",
       "bethm                              1.0                   1.0   \n",
       "mommyjess                          1.0                   1.0   \n",
       "acarrill93                         1.0                   1.0   \n",
       "bymalinut                          1.0                   1.0   \n",
       "\n",
       "id                AVpfv4TlilAPnD_xhjNS  AVpfvieo1cnluZ0-qdnu  \n",
       "reviews_username                                              \n",
       "littlemommat                       1.0                   1.0  \n",
       "bethm                              1.0                   1.0  \n",
       "mommyjess                          1.0                   1.0  \n",
       "acarrill93                         1.0                   1.0  \n",
       "bymalinut                          1.0                   1.0  \n",
       "\n",
       "[5 rows x 269 columns]"
      ]
     },
     "execution_count": 68,
     "metadata": {},
     "output_type": "execute_result"
    }
   ],
   "source": [
    "pred_marker.sample(5)\n",
    "# This way of preparing the pred_marker, works fine"
   ]
  },
  {
   "cell_type": "code",
   "execution_count": 69,
   "metadata": {},
   "outputs": [
    {
     "data": {
      "text/plain": [
       "(269,)"
      ]
     },
     "execution_count": 69,
     "metadata": {},
     "output_type": "execute_result"
    }
   ],
   "source": [
    "item_mean_rating = np.nanmean(train_pivot, axis = 1) # The mean of review, product wise\n",
    "item_mean_rating.shape"
   ]
  },
  {
   "cell_type": "code",
   "execution_count": 70,
   "metadata": {},
   "outputs": [],
   "source": [
    "# mean correction(adjustion) for adjusted cosine\n",
    "train_pivot_adj = train_pivot.sub(item_mean_rating, axis= 'index')"
   ]
  },
  {
   "cell_type": "code",
   "execution_count": 71,
   "metadata": {},
   "outputs": [],
   "source": [
    "# For now, using cosine similarity rather than cosine distance, as it was used earlier\n",
    "item_corr = 1-pairwise_distances(train_pivot_adj.fillna(0), metric = 'cosine') # Null values have to be replaced for the function to work"
   ]
  },
  {
   "cell_type": "code",
   "execution_count": 72,
   "metadata": {},
   "outputs": [],
   "source": [
    "# As we are only interested in the similarities, we set the negative correlations to 0\n",
    "item_corr[item_corr < 0] = 0"
   ]
  },
  {
   "cell_type": "code",
   "execution_count": 73,
   "metadata": {},
   "outputs": [
    {
     "data": {
      "text/plain": [
       "array([[0.        , 0.        , 0.        , ..., 0.        , 0.        ,\n",
       "        0.        ],\n",
       "       [0.        , 0.        , 0.        , ..., 0.        , 0.07986485,\n",
       "        0.        ],\n",
       "       [0.        , 0.        , 0.01076416, ..., 0.        , 0.        ,\n",
       "        0.        ],\n",
       "       ...,\n",
       "       [0.        , 0.        , 0.        , ..., 0.        , 0.        ,\n",
       "        0.        ],\n",
       "       [0.        , 0.        , 0.        , ..., 0.        , 0.13310808,\n",
       "        0.        ],\n",
       "       [0.        , 0.        , 0.        , ..., 0.        , 0.        ,\n",
       "        0.        ]])"
      ]
     },
     "execution_count": 73,
     "metadata": {},
     "output_type": "execute_result"
    }
   ],
   "source": [
    "# predictions based on the correlation matrix\n",
    "ratings_prediction_item = np.dot((train_pivot.fillna(0).T),item_corr)\n",
    "ratings_prediction_item"
   ]
  },
  {
   "cell_type": "code",
   "execution_count": 74,
   "metadata": {},
   "outputs": [
    {
     "data": {
      "text/html": [
       "<div>\n",
       "<style scoped>\n",
       "    .dataframe tbody tr th:only-of-type {\n",
       "        vertical-align: middle;\n",
       "    }\n",
       "\n",
       "    .dataframe tbody tr th {\n",
       "        vertical-align: top;\n",
       "    }\n",
       "\n",
       "    .dataframe thead th {\n",
       "        text-align: right;\n",
       "    }\n",
       "</style>\n",
       "<table border=\"1\" class=\"dataframe\">\n",
       "  <thead>\n",
       "    <tr style=\"text-align: right;\">\n",
       "      <th>id</th>\n",
       "      <th>AV13O1A8GV-KLJ3akUyj</th>\n",
       "      <th>AV14LG0R-jtxr-f38QfS</th>\n",
       "      <th>AV16khLE-jtxr-f38VFn</th>\n",
       "      <th>AV1YGDqsGV-KLJ3adc-O</th>\n",
       "      <th>AV1YIch7GV-KLJ3addeG</th>\n",
       "      <th>AV1YlENIglJLPUi8IHsX</th>\n",
       "      <th>AV1YmBrdGV-KLJ3adewb</th>\n",
       "      <th>AV1YmDL9vKc47QAVgr7_</th>\n",
       "      <th>AV1Ymf_rglJLPUi8II2v</th>\n",
       "      <th>AV1Yn94nvKc47QAVgtst</th>\n",
       "      <th>...</th>\n",
       "      <th>AVpfrfHF1cnluZ0-pRai</th>\n",
       "      <th>AVpfrgjFLJeJML43BvCc</th>\n",
       "      <th>AVpfs0tUilAPnD_xgqN2</th>\n",
       "      <th>AVpfsQoeilAPnD_xgfx5</th>\n",
       "      <th>AVpfshNsLJeJML43CB8q</th>\n",
       "      <th>AVpfthSailAPnD_xg3ON</th>\n",
       "      <th>AVpftikC1cnluZ0-p31V</th>\n",
       "      <th>AVpftymALJeJML43CZ6y</th>\n",
       "      <th>AVpfv4TlilAPnD_xhjNS</th>\n",
       "      <th>AVpfvieo1cnluZ0-qdnu</th>\n",
       "    </tr>\n",
       "    <tr>\n",
       "      <th>reviews_username</th>\n",
       "      <th></th>\n",
       "      <th></th>\n",
       "      <th></th>\n",
       "      <th></th>\n",
       "      <th></th>\n",
       "      <th></th>\n",
       "      <th></th>\n",
       "      <th></th>\n",
       "      <th></th>\n",
       "      <th></th>\n",
       "      <th></th>\n",
       "      <th></th>\n",
       "      <th></th>\n",
       "      <th></th>\n",
       "      <th></th>\n",
       "      <th></th>\n",
       "      <th></th>\n",
       "      <th></th>\n",
       "      <th></th>\n",
       "      <th></th>\n",
       "      <th></th>\n",
       "    </tr>\n",
       "  </thead>\n",
       "  <tbody>\n",
       "    <tr>\n",
       "      <th>harleymads</th>\n",
       "      <td>0.0</td>\n",
       "      <td>0.0</td>\n",
       "      <td>0.03695</td>\n",
       "      <td>0.002602</td>\n",
       "      <td>0.0</td>\n",
       "      <td>0.0</td>\n",
       "      <td>0.0</td>\n",
       "      <td>0.0</td>\n",
       "      <td>0.000000</td>\n",
       "      <td>0.000017</td>\n",
       "      <td>...</td>\n",
       "      <td>0.00000</td>\n",
       "      <td>0.0</td>\n",
       "      <td>0.067269</td>\n",
       "      <td>0.0</td>\n",
       "      <td>0.0</td>\n",
       "      <td>0.059277</td>\n",
       "      <td>0.0</td>\n",
       "      <td>0.0</td>\n",
       "      <td>0.060224</td>\n",
       "      <td>0.0</td>\n",
       "    </tr>\n",
       "    <tr>\n",
       "      <th>wilddddkatttt80</th>\n",
       "      <td>0.0</td>\n",
       "      <td>0.0</td>\n",
       "      <td>0.00000</td>\n",
       "      <td>0.000000</td>\n",
       "      <td>0.0</td>\n",
       "      <td>0.0</td>\n",
       "      <td>0.0</td>\n",
       "      <td>0.0</td>\n",
       "      <td>0.000000</td>\n",
       "      <td>0.019458</td>\n",
       "      <td>...</td>\n",
       "      <td>0.04348</td>\n",
       "      <td>0.0</td>\n",
       "      <td>0.146802</td>\n",
       "      <td>0.0</td>\n",
       "      <td>0.0</td>\n",
       "      <td>0.075396</td>\n",
       "      <td>0.0</td>\n",
       "      <td>0.0</td>\n",
       "      <td>0.133108</td>\n",
       "      <td>0.0</td>\n",
       "    </tr>\n",
       "    <tr>\n",
       "      <th>seane2588</th>\n",
       "      <td>0.0</td>\n",
       "      <td>0.0</td>\n",
       "      <td>0.00000</td>\n",
       "      <td>0.000000</td>\n",
       "      <td>0.0</td>\n",
       "      <td>0.0</td>\n",
       "      <td>0.0</td>\n",
       "      <td>0.0</td>\n",
       "      <td>0.015009</td>\n",
       "      <td>0.000000</td>\n",
       "      <td>...</td>\n",
       "      <td>0.00000</td>\n",
       "      <td>0.0</td>\n",
       "      <td>0.058944</td>\n",
       "      <td>0.0</td>\n",
       "      <td>0.0</td>\n",
       "      <td>0.036886</td>\n",
       "      <td>0.0</td>\n",
       "      <td>0.0</td>\n",
       "      <td>0.141210</td>\n",
       "      <td>0.0</td>\n",
       "    </tr>\n",
       "    <tr>\n",
       "      <th>abby8992</th>\n",
       "      <td>0.0</td>\n",
       "      <td>0.0</td>\n",
       "      <td>0.00000</td>\n",
       "      <td>0.000000</td>\n",
       "      <td>0.0</td>\n",
       "      <td>0.0</td>\n",
       "      <td>0.0</td>\n",
       "      <td>0.0</td>\n",
       "      <td>0.000000</td>\n",
       "      <td>0.000000</td>\n",
       "      <td>...</td>\n",
       "      <td>0.00000</td>\n",
       "      <td>0.0</td>\n",
       "      <td>0.000000</td>\n",
       "      <td>0.0</td>\n",
       "      <td>0.0</td>\n",
       "      <td>0.000000</td>\n",
       "      <td>0.0</td>\n",
       "      <td>0.0</td>\n",
       "      <td>0.000000</td>\n",
       "      <td>0.0</td>\n",
       "    </tr>\n",
       "    <tr>\n",
       "      <th>karenh2008</th>\n",
       "      <td>0.0</td>\n",
       "      <td>0.0</td>\n",
       "      <td>0.00000</td>\n",
       "      <td>0.000000</td>\n",
       "      <td>0.0</td>\n",
       "      <td>0.0</td>\n",
       "      <td>0.0</td>\n",
       "      <td>0.0</td>\n",
       "      <td>0.000000</td>\n",
       "      <td>0.000000</td>\n",
       "      <td>...</td>\n",
       "      <td>0.00000</td>\n",
       "      <td>0.0</td>\n",
       "      <td>0.000000</td>\n",
       "      <td>0.0</td>\n",
       "      <td>0.0</td>\n",
       "      <td>0.000000</td>\n",
       "      <td>0.0</td>\n",
       "      <td>0.0</td>\n",
       "      <td>0.000000</td>\n",
       "      <td>0.0</td>\n",
       "    </tr>\n",
       "  </tbody>\n",
       "</table>\n",
       "<p>5 rows × 269 columns</p>\n",
       "</div>"
      ],
      "text/plain": [
       "id                AV13O1A8GV-KLJ3akUyj  AV14LG0R-jtxr-f38QfS  \\\n",
       "reviews_username                                               \n",
       "harleymads                         0.0                   0.0   \n",
       "wilddddkatttt80                    0.0                   0.0   \n",
       "seane2588                          0.0                   0.0   \n",
       "abby8992                           0.0                   0.0   \n",
       "karenh2008                         0.0                   0.0   \n",
       "\n",
       "id                AV16khLE-jtxr-f38VFn  AV1YGDqsGV-KLJ3adc-O  \\\n",
       "reviews_username                                               \n",
       "harleymads                     0.03695              0.002602   \n",
       "wilddddkatttt80                0.00000              0.000000   \n",
       "seane2588                      0.00000              0.000000   \n",
       "abby8992                       0.00000              0.000000   \n",
       "karenh2008                     0.00000              0.000000   \n",
       "\n",
       "id                AV1YIch7GV-KLJ3addeG  AV1YlENIglJLPUi8IHsX  \\\n",
       "reviews_username                                               \n",
       "harleymads                         0.0                   0.0   \n",
       "wilddddkatttt80                    0.0                   0.0   \n",
       "seane2588                          0.0                   0.0   \n",
       "abby8992                           0.0                   0.0   \n",
       "karenh2008                         0.0                   0.0   \n",
       "\n",
       "id                AV1YmBrdGV-KLJ3adewb  AV1YmDL9vKc47QAVgr7_  \\\n",
       "reviews_username                                               \n",
       "harleymads                         0.0                   0.0   \n",
       "wilddddkatttt80                    0.0                   0.0   \n",
       "seane2588                          0.0                   0.0   \n",
       "abby8992                           0.0                   0.0   \n",
       "karenh2008                         0.0                   0.0   \n",
       "\n",
       "id                AV1Ymf_rglJLPUi8II2v  AV1Yn94nvKc47QAVgtst  ...  \\\n",
       "reviews_username                                              ...   \n",
       "harleymads                    0.000000              0.000017  ...   \n",
       "wilddddkatttt80               0.000000              0.019458  ...   \n",
       "seane2588                     0.015009              0.000000  ...   \n",
       "abby8992                      0.000000              0.000000  ...   \n",
       "karenh2008                    0.000000              0.000000  ...   \n",
       "\n",
       "id                AVpfrfHF1cnluZ0-pRai  AVpfrgjFLJeJML43BvCc  \\\n",
       "reviews_username                                               \n",
       "harleymads                     0.00000                   0.0   \n",
       "wilddddkatttt80                0.04348                   0.0   \n",
       "seane2588                      0.00000                   0.0   \n",
       "abby8992                       0.00000                   0.0   \n",
       "karenh2008                     0.00000                   0.0   \n",
       "\n",
       "id                AVpfs0tUilAPnD_xgqN2  AVpfsQoeilAPnD_xgfx5  \\\n",
       "reviews_username                                               \n",
       "harleymads                    0.067269                   0.0   \n",
       "wilddddkatttt80               0.146802                   0.0   \n",
       "seane2588                     0.058944                   0.0   \n",
       "abby8992                      0.000000                   0.0   \n",
       "karenh2008                    0.000000                   0.0   \n",
       "\n",
       "id                AVpfshNsLJeJML43CB8q  AVpfthSailAPnD_xg3ON  \\\n",
       "reviews_username                                               \n",
       "harleymads                         0.0              0.059277   \n",
       "wilddddkatttt80                    0.0              0.075396   \n",
       "seane2588                          0.0              0.036886   \n",
       "abby8992                           0.0              0.000000   \n",
       "karenh2008                         0.0              0.000000   \n",
       "\n",
       "id                AVpftikC1cnluZ0-p31V  AVpftymALJeJML43CZ6y  \\\n",
       "reviews_username                                               \n",
       "harleymads                         0.0                   0.0   \n",
       "wilddddkatttt80                    0.0                   0.0   \n",
       "seane2588                          0.0                   0.0   \n",
       "abby8992                           0.0                   0.0   \n",
       "karenh2008                         0.0                   0.0   \n",
       "\n",
       "id                AVpfv4TlilAPnD_xhjNS  AVpfvieo1cnluZ0-qdnu  \n",
       "reviews_username                                              \n",
       "harleymads                    0.060224                   0.0  \n",
       "wilddddkatttt80               0.133108                   0.0  \n",
       "seane2588                     0.141210                   0.0  \n",
       "abby8992                      0.000000                   0.0  \n",
       "karenh2008                    0.000000                   0.0  \n",
       "\n",
       "[5 rows x 269 columns]"
      ]
     },
     "execution_count": 74,
     "metadata": {},
     "output_type": "execute_result"
    }
   ],
   "source": [
    "# Making sure that the original ratings stay there and only the unknown ratings are filled in the matrix\n",
    "unknown_ratings_prediction = np.multiply(ratings_prediction_item,pred_marker)\n",
    "unknown_ratings_prediction.sample(5)"
   ]
  },
  {
   "cell_type": "code",
   "execution_count": 75,
   "metadata": {},
   "outputs": [
    {
     "data": {
      "text/plain": [
       "id\n",
       "AVpfi79RLJeJML43_Jo0    0.157187\n",
       "AVpe_dxlilAPnD_xSiHI    0.114860\n",
       "AVpfIfnYilAPnD_xVpGi    0.113650\n",
       "AVpfs0tUilAPnD_xgqN2    0.106279\n",
       "AVpfBO2vLJeJML430mGh    0.089272\n",
       "AVpfkQkcLJeJML43_kEC    0.089114\n",
       "AVpfv4TlilAPnD_xhjNS    0.073788\n",
       "AVpf0thK1cnluZ0-r8vR    0.072506\n",
       "AVpfbraG1cnluZ0-kqnn    0.065589\n",
       "AVpfliCoilAPnD_xegIr    0.062089\n",
       "AVpe6FfKilAPnD_xQmHi    0.059201\n",
       "AVpfGRUHilAPnD_xU5nU    0.057979\n",
       "AVpe8xjUilAPnD_xRkxC    0.057384\n",
       "AVpfMpZ51cnluZ0-f_L9    0.055411\n",
       "AVpf1pwXLJeJML43EqpT    0.055083\n",
       "AVpe59io1cnluZ0-ZgDU    0.051315\n",
       "AVpfewoLilAPnD_xcfgU    0.048999\n",
       "AVpfthSailAPnD_xg3ON    0.048991\n",
       "AVpfM_ytilAPnD_xXIJb    0.048240\n",
       "AVpfCuzrilAPnD_xTroT    0.044562\n",
       "Name: bm1990, dtype: float64"
      ]
     },
     "execution_count": 75,
     "metadata": {},
     "output_type": "execute_result"
    }
   ],
   "source": [
    "# |Top 20 recommnedations based on the item-item model\n",
    "unknown_ratings_prediction.loc['bm1990'].sort_values(ascending=False)[0:20]"
   ]
  },
  {
   "cell_type": "code",
   "execution_count": 77,
   "metadata": {},
   "outputs": [],
   "source": [
    "# Save the recommender dataframe\n",
    "filename = 'D:/capestone_project/2-Data/final/item-item-recommender.sav'\n",
    "pickle.dump(unknown_ratings_prediction, open(filename, 'wb'))"
   ]
  },
  {
   "cell_type": "code",
   "execution_count": 82,
   "metadata": {},
   "outputs": [
    {
     "data": {
      "text/plain": [
       "['00dog3',\n",
       " '00sab00',\n",
       " '01impala',\n",
       " '02dakota',\n",
       " '02deuce',\n",
       " '0325home',\n",
       " '06stidriver',\n",
       " '08dallas',\n",
       " '09mommy11',\n",
       " '1.11E+24',\n",
       " '1085',\n",
       " '10ten',\n",
       " '11111111aaaaaaaaaaaaaaaaa',\n",
       " '1143mom',\n",
       " '11677j',\n",
       " '1234',\n",
       " '1234561',\n",
       " '1234567',\n",
       " '1234asdf',\n",
       " '123cat123',\n",
       " '123charlie',\n",
       " '123numbers',\n",
       " '123rs',\n",
       " '123soccermom',\n",
       " '123too',\n",
       " '127726',\n",
       " '12cass12',\n",
       " '12gage',\n",
       " '132457',\n",
       " '13dani',\n",
       " '13ld',\n",
       " '13ram',\n",
       " '13thfaerie',\n",
       " '1421nikki',\n",
       " '143st',\n",
       " '148maine',\n",
       " '1515',\n",
       " '15425shopper',\n",
       " '1616',\n",
       " '170361eggs',\n",
       " '1753',\n",
       " '17roses',\n",
       " '18612',\n",
       " '1863philly',\n",
       " '1943',\n",
       " '1950rmm',\n",
       " '1968bear',\n",
       " '1970',\n",
       " '1979edes',\n",
       " '1992firebirdgirl',\n",
       " '19bubba67',\n",
       " '19granny',\n",
       " '1awesome1',\n",
       " '1boomer',\n",
       " '1buzymom',\n",
       " '1cadet',\n",
       " '1chynna',\n",
       " '1clean1',\n",
       " '1cleaner',\n",
       " '1cocoafan',\n",
       " '1derpet1',\n",
       " '1friendlycat',\n",
       " '1gamer',\n",
       " '1glenn',\n",
       " '1gra',\n",
       " '1gussy',\n",
       " '1happymom',\n",
       " '1healthytot',\n",
       " '1hotmama',\n",
       " '1izzy1',\n",
       " '1jc1',\n",
       " '1jodie',\n",
       " '1kindword',\n",
       " '1movielover2',\n",
       " '1nikki31t',\n",
       " '1officegal',\n",
       " '1okc2thunder3up4',\n",
       " '1olaygal',\n",
       " '1pleasedclient',\n",
       " '1scooby1',\n",
       " '1shop',\n",
       " '1sonny',\n",
       " '1stcavdivision',\n",
       " '1stgrade',\n",
       " '1stlady',\n",
       " '1sttimemama',\n",
       " '1sungirl',\n",
       " '1texasmom',\n",
       " '1tomg',\n",
       " '1vgarcia',\n",
       " '1wildbill2l',\n",
       " '1witch',\n",
       " '2011mom2b',\n",
       " '2011pink2011',\n",
       " '2013bestbuyer',\n",
       " '2014bestbuys',\n",
       " '2015mom',\n",
       " '2016',\n",
       " '2016home',\n",
       " '2016parker10',\n",
       " '2062351337',\n",
       " '20crafter16',\n",
       " '210tundra',\n",
       " '2175046722',\n",
       " '21honey',\n",
       " '21please',\n",
       " '232323',\n",
       " '23jen',\n",
       " '2455',\n",
       " '24hrstoneroses',\n",
       " '2532674594',\n",
       " '25happyshopper',\n",
       " '262jennifer',\n",
       " '2689',\n",
       " '2827',\n",
       " '28green',\n",
       " '295259',\n",
       " '2athome',\n",
       " '2bgreen',\n",
       " '2big',\n",
       " '2busy4u',\n",
       " '2choclabs',\n",
       " '2clean4me',\n",
       " '2cutekids',\n",
       " '2dobies',\n",
       " '2ds4es14',\n",
       " '2esinapod',\n",
       " '2forhokies',\n",
       " '2go4savings',\n",
       " '2hearts1love',\n",
       " '2iceskates',\n",
       " '2low4zero',\n",
       " '2rogersmakearight',\n",
       " '2shoes',\n",
       " '2sweetdaisies',\n",
       " '2thumbsup',\n",
       " '2total',\n",
       " '2w0cat5z',\n",
       " '2xmom',\n",
       " '30103',\n",
       " '3276teev',\n",
       " '3375509742',\n",
       " '370gt',\n",
       " '37f5p',\n",
       " '38redsox',\n",
       " '3babiesat41',\n",
       " '3bear',\n",
       " '3bees',\n",
       " '3boys2turtles5chicks',\n",
       " '3card',\n",
       " '3dcav',\n",
       " '3dfan',\n",
       " '3dknights',\n",
       " '3dmoviewatcher',\n",
       " '3dpenguin',\n",
       " '3dpic',\n",
       " '3kids',\n",
       " '3lilones',\n",
       " '3littlegirls',\n",
       " '3littleswimmers',\n",
       " '3ringbandb',\n",
       " '3ringcircus',\n",
       " '3sawhorsesneeded',\n",
       " '3scissors',\n",
       " '3skyyblue',\n",
       " '4 rooms 1 dog lotsa fur',\n",
       " '4048197640',\n",
       " '405april',\n",
       " '4112',\n",
       " '4141',\n",
       " '44pam44',\n",
       " '45177ss',\n",
       " '45cleanupwoman',\n",
       " '45mindishqueen',\n",
       " '4795181377',\n",
       " '49erfaithful',\n",
       " '49ersfor6',\n",
       " '4bukfam',\n",
       " '4cloroxl',\n",
       " '4djs',\n",
       " '4dogmom',\n",
       " '4frugal',\n",
       " '4gis1975',\n",
       " '4katelyn',\n",
       " '4littleones',\n",
       " '4luds',\n",
       " '4momma88',\n",
       " '4my5goldens',\n",
       " '4parman',\n",
       " '4shop',\n",
       " '4stew57',\n",
       " '4th grade teacher',\n",
       " '4theloveofclorox',\n",
       " '4wipes',\n",
       " '500mpl',\n",
       " '50cal',\n",
       " '5150seriousshopper5150',\n",
       " '530germkiller',\n",
       " '54867906',\n",
       " '551580',\n",
       " '5742870423',\n",
       " '57susie',\n",
       " '5alarm',\n",
       " '5boysohmy',\n",
       " '5kids',\n",
       " '5mcdaniels',\n",
       " '5star414',\n",
       " '5zenuff',\n",
       " '6211958',\n",
       " '62deuce',\n",
       " '63lamb',\n",
       " '64falcon',\n",
       " '6623443094',\n",
       " '66babe',\n",
       " '66cutie',\n",
       " '6787249844',\n",
       " '67firebird',\n",
       " '69chopper',\n",
       " '6cockers',\n",
       " '6mex2',\n",
       " '6utefans',\n",
       " '7',\n",
       " '7.87E+11',\n",
       " '70chp',\n",
       " '70cohoosier',\n",
       " '714reginald',\n",
       " '714rv',\n",
       " '72443',\n",
       " '74corvetteguy',\n",
       " '7737593842',\n",
       " '79captm79',\n",
       " '7autumn5',\n",
       " '7frances7',\n",
       " '7inthenest',\n",
       " '7of9',\n",
       " '7rick',\n",
       " '8.84E+11',\n",
       " '80021mom',\n",
       " '80204',\n",
       " '8023',\n",
       " '808wrx',\n",
       " '81t21',\n",
       " '827',\n",
       " '85721747267',\n",
       " '8574178605',\n",
       " '85lisa',\n",
       " '8675309',\n",
       " '88brit06',\n",
       " '89c46698305f04e39d57a88a2c5c3ce297787288',\n",
       " '8bithero',\n",
       " '8ellie24',\n",
       " '8kucs',\n",
       " '8mooshu',\n",
       " '8rob1',\n",
       " '8sk8anddon8',\n",
       " '8thred',\n",
       " '9003058363',\n",
       " '911notimetoshop',\n",
       " '9373weld',\n",
       " '987654321abc',\n",
       " '98nd500',\n",
       " '99runner',\n",
       " '9thdoctor',\n",
       " '_christenak',\n",
       " 'a hutch',\n",
       " 'a leaf on the family tree',\n",
       " 'a1126',\n",
       " 'a11mxdup',\n",
       " 'a1cbee1481',\n",
       " 'a1s3',\n",
       " 'a77077',\n",
       " 'a786',\n",
       " 'a7xmaddlove',\n",
       " 'aaaa',\n",
       " 'aaam',\n",
       " 'aabrannon',\n",
       " 'aac06002',\n",
       " 'aac3',\n",
       " 'aagbaghagmom',\n",
       " 'aakon',\n",
       " 'aalyah',\n",
       " 'aarhus74',\n",
       " 'aaron',\n",
       " 'aaronabigail',\n",
       " 'aaronlab',\n",
       " 'aaronm',\n",
       " 'aaube1990',\n",
       " 'aaulvu',\n",
       " 'aayla',\n",
       " 'ab1015',\n",
       " 'ab45',\n",
       " 'ab86',\n",
       " 'ababe',\n",
       " 'abacadaba',\n",
       " 'abam',\n",
       " 'abananie',\n",
       " 'abarker1215',\n",
       " 'abartine',\n",
       " 'abashli',\n",
       " 'abaybay',\n",
       " 'abberdoodlesmom',\n",
       " 'abbey',\n",
       " 'abbey64',\n",
       " 'abbi',\n",
       " 'abbs77',\n",
       " 'abbuyguy',\n",
       " 'abby',\n",
       " 'abby1',\n",
       " 'abby11',\n",
       " 'abby132',\n",
       " 'abby8992',\n",
       " 'abbysmama',\n",
       " 'abc',\n",
       " 'abc1245',\n",
       " 'abc3',\n",
       " 'abc4sb206',\n",
       " 'abcd',\n",
       " 'abcd12345',\n",
       " 'abcdef',\n",
       " 'abcdefghij',\n",
       " 'abcgator',\n",
       " 'abcssds',\n",
       " 'abctech',\n",
       " 'abd1',\n",
       " 'abear93',\n",
       " 'abefroman',\n",
       " 'abel9027',\n",
       " 'abelc',\n",
       " 'abesb',\n",
       " 'abeverly7',\n",
       " 'abf1987',\n",
       " 'abg0821',\n",
       " 'abi09',\n",
       " 'abigail',\n",
       " 'abigail32',\n",
       " 'abigail81',\n",
       " 'abigailc',\n",
       " 'abihaven',\n",
       " 'abismomy',\n",
       " 'abm1976',\n",
       " 'abm27',\n",
       " 'abmurals',\n",
       " 'aboh',\n",
       " 'about2bmom',\n",
       " 'abphillips7858',\n",
       " 'abqdavenm',\n",
       " 'abrams',\n",
       " 'abret',\n",
       " 'abrildiez',\n",
       " 'abrinegarwky',\n",
       " 'abruscini',\n",
       " 'abryant',\n",
       " 'abuelita',\n",
       " 'abyo',\n",
       " 'ac228',\n",
       " 'ac90',\n",
       " 'ac94',\n",
       " 'acadia',\n",
       " 'acamechis',\n",
       " 'acarrera9461',\n",
       " 'acarrill93',\n",
       " 'acasabel',\n",
       " 'acceber32',\n",
       " 'accidbuurn',\n",
       " 'accounting m',\n",
       " 'accwiz',\n",
       " 'acd3',\n",
       " 'acdd',\n",
       " 'ace1183',\n",
       " 'ace22',\n",
       " 'acegamer',\n",
       " 'acehardware',\n",
       " 'acehi369ja',\n",
       " 'acellacey',\n",
       " 'acelyn',\n",
       " 'acer',\n",
       " 'aces',\n",
       " 'acetolman',\n",
       " 'acf11154',\n",
       " 'acg1',\n",
       " 'achef',\n",
       " 'achick',\n",
       " 'achkosh',\n",
       " 'acidchipmunk',\n",
       " 'acinom',\n",
       " 'acjuarez08',\n",
       " 'ackk',\n",
       " 'aclass',\n",
       " 'acleanerworld',\n",
       " 'acmillion',\n",
       " 'acmv',\n",
       " 'acornnancy',\n",
       " 'acr2015',\n",
       " 'acs614',\n",
       " 'acsnv159',\n",
       " 'actias',\n",
       " 'action',\n",
       " 'actionaction',\n",
       " 'actionaddict',\n",
       " 'actiond',\n",
       " 'actionjem',\n",
       " 'activegal',\n",
       " 'actortj',\n",
       " 'acts1123',\n",
       " 'acurbrider',\n",
       " 'acv4217',\n",
       " 'ada_us_ohpiiy',\n",
       " 'adaizy79',\n",
       " 'adalie98',\n",
       " 'adam',\n",
       " 'adam1977',\n",
       " 'adam9976',\n",
       " 'adamofh',\n",
       " 'adams31',\n",
       " 'adamsmom',\n",
       " 'adamsra10',\n",
       " 'adan',\n",
       " 'adanas',\n",
       " 'adapterhdtv',\n",
       " 'adapters',\n",
       " 'adash75',\n",
       " 'adavidson',\n",
       " 'adavis',\n",
       " 'adawg',\n",
       " 'adballgator',\n",
       " 'adcaex5',\n",
       " 'addie',\n",
       " 'addieb87',\n",
       " 'addmotherhood25',\n",
       " 'addto the 2nd degree',\n",
       " 'adele',\n",
       " 'adeleforlife',\n",
       " 'adeline',\n",
       " 'adelynsmom',\n",
       " 'ades',\n",
       " 'adfj21',\n",
       " 'adi0915',\n",
       " 'adina',\n",
       " 'adizzione',\n",
       " 'adma2',\n",
       " 'adman',\n",
       " 'admbat',\n",
       " 'admin girl',\n",
       " 'admin in williamsburg',\n",
       " 'admin164',\n",
       " 'adminpro',\n",
       " 'admiralake',\n",
       " 'admirer28',\n",
       " 'adonis',\n",
       " 'adpp',\n",
       " 'adr1ana',\n",
       " 'adr2',\n",
       " 'adrbeach',\n",
       " 'adrbeach27',\n",
       " 'adrialc',\n",
       " 'adrian17',\n",
       " 'adriana',\n",
       " 'adriana9999',\n",
       " 'adrianadad',\n",
       " 'adrianna',\n",
       " 'adrid',\n",
       " 'adrienne',\n",
       " 'adrunkinidiot',\n",
       " 'adub',\n",
       " 'adub0222',\n",
       " 'aduffy',\n",
       " 'adventurer',\n",
       " 'adventurousone',\n",
       " 'advichiel',\n",
       " 'advocate',\n",
       " 'adw123',\n",
       " 'adyg',\n",
       " 'adynsmom',\n",
       " 'adysonkate',\n",
       " 'aebagz',\n",
       " 'aebt',\n",
       " 'aebw volunteer',\n",
       " 'aechking',\n",
       " 'aeh1021',\n",
       " 'aeharris',\n",
       " 'aehr',\n",
       " 'aei2001',\n",
       " 'aelw',\n",
       " 'aeoldham',\n",
       " 'aep1010',\n",
       " 'aeroflux',\n",
       " 'aeroperu',\n",
       " 'aet39641',\n",
       " 'afair77',\n",
       " 'afallon1991',\n",
       " 'afhaffner',\n",
       " 'afilii',\n",
       " 'afm7',\n",
       " 'afooey',\n",
       " 'afrk',\n",
       " 'afwifey2003',\n",
       " 'ag1987',\n",
       " 'agambrel2118',\n",
       " 'agamu16',\n",
       " 'agard617',\n",
       " 'agardner',\n",
       " 'agathag',\n",
       " 'age7',\n",
       " 'ageless',\n",
       " 'agent 00soul',\n",
       " 'agent4678',\n",
       " 'agent797',\n",
       " 'agentcat',\n",
       " 'agente',\n",
       " 'agentjelly007',\n",
       " 'agentnoy',\n",
       " 'agentpaper',\n",
       " 'aggie16',\n",
       " 'aggie1965',\n",
       " 'aggielily05',\n",
       " 'agibby722',\n",
       " 'agmt',\n",
       " 'agopy19',\n",
       " 'agreenlee86',\n",
       " 'ah78',\n",
       " 'ah87',\n",
       " 'aharbin88',\n",
       " 'aharry1021',\n",
       " 'ahart04',\n",
       " 'ahaschart',\n",
       " 'ahawk',\n",
       " 'aheadfullofdreams',\n",
       " 'ahelke',\n",
       " 'ahjohnson1983',\n",
       " 'ahmedsat',\n",
       " 'ahoy',\n",
       " 'ai85',\n",
       " 'aidensmama 88',\n",
       " 'aidnel646',\n",
       " 'aiihcy',\n",
       " 'aileen2',\n",
       " 'aim1',\n",
       " 'aimcoop',\n",
       " 'aimee',\n",
       " 'aira',\n",
       " 'airborne2',\n",
       " 'airborneannie',\n",
       " 'airforce65',\n",
       " 'airkingchris',\n",
       " 'airsteve',\n",
       " 'airwave15',\n",
       " 'aiscoupon',\n",
       " 'aisha',\n",
       " 'aiyana84',\n",
       " 'aj',\n",
       " 'aj0324',\n",
       " 'aj1135',\n",
       " 'aj2012',\n",
       " 'aj345',\n",
       " 'aj792008',\n",
       " 'aj96',\n",
       " 'ajackson75',\n",
       " 'ajamico',\n",
       " 'ajandjen',\n",
       " 'ajay',\n",
       " 'ajay1',\n",
       " 'ajcrossover11',\n",
       " 'ajeff',\n",
       " 'ajf9597',\n",
       " 'ajface24',\n",
       " 'ajgreer1979',\n",
       " 'ajh2298',\n",
       " 'ajhobb07',\n",
       " 'aji28',\n",
       " 'ajinak',\n",
       " 'ajinfl',\n",
       " 'ajkw',\n",
       " 'ajmac2000',\n",
       " 'ajmcoupons',\n",
       " 'ajmv9',\n",
       " 'ajoiwejsd',\n",
       " 'ajpowell',\n",
       " 'ajr1',\n",
       " 'ajrecr',\n",
       " 'ajrespectcosby',\n",
       " 'ajskot',\n",
       " 'ajsmom',\n",
       " 'ajune',\n",
       " 'ajv2',\n",
       " 'ajvi1201',\n",
       " 'ajwoods24',\n",
       " 'ajzookie',\n",
       " 'ak04',\n",
       " 'ak2008',\n",
       " 'aka',\n",
       " 'akathb',\n",
       " 'akbj1',\n",
       " 'akbluemeanie',\n",
       " 'akbrass',\n",
       " 'akcrazymom15',\n",
       " 'akeane1228',\n",
       " 'akesler19',\n",
       " 'aketch',\n",
       " 'akeyes77',\n",
       " 'akghwe',\n",
       " 'akgirl',\n",
       " 'akgrl',\n",
       " 'akhan',\n",
       " 'akim',\n",
       " 'akimh',\n",
       " 'akimom',\n",
       " 'akinje',\n",
       " 'akintola10',\n",
       " 'akipanda',\n",
       " 'akirsch',\n",
       " 'akjones',\n",
       " 'akmarine86',\n",
       " 'akmom',\n",
       " 'aknbak35',\n",
       " 'akoenke',\n",
       " 'akoontza',\n",
       " 'akpaz81885',\n",
       " 'akporter84',\n",
       " 'akrandolph',\n",
       " 'aktar',\n",
       " 'aktcharlotte',\n",
       " 'al',\n",
       " 'al0000',\n",
       " 'al31',\n",
       " 'al33',\n",
       " 'al5435',\n",
       " 'al60',\n",
       " 'alaarie',\n",
       " 'alabamajanie',\n",
       " 'alabamaroberts',\n",
       " 'alabudda',\n",
       " 'alamo99',\n",
       " 'alan',\n",
       " 'aland',\n",
       " 'alanlee',\n",
       " 'alansmithee',\n",
       " 'alapi',\n",
       " 'alarm',\n",
       " 'alaska',\n",
       " 'alatariel',\n",
       " 'alawhorn',\n",
       " 'alaynamarie09',\n",
       " 'alazare',\n",
       " 'albert523',\n",
       " 'albertacanada',\n",
       " 'alboal',\n",
       " 'alcade429',\n",
       " 'alcatraz',\n",
       " 'alcold',\n",
       " 'ald13',\n",
       " 'ald80',\n",
       " 'alderman',\n",
       " 'aldone',\n",
       " 'aleavitt',\n",
       " 'alecsys1999',\n",
       " 'aleek',\n",
       " 'alehman29',\n",
       " 'alena125',\n",
       " 'aleshty10',\n",
       " 'alester',\n",
       " 'alex',\n",
       " 'alex s',\n",
       " 'alex111',\n",
       " 'alex1988',\n",
       " 'alex5514',\n",
       " 'alex63',\n",
       " 'alex777',\n",
       " 'alex93',\n",
       " 'alexa05',\n",
       " 'alexa86',\n",
       " 'alexaa33',\n",
       " 'alexander',\n",
       " 'alexandria56',\n",
       " 'alexandrianana',\n",
       " 'alexasmom',\n",
       " 'alexdawn',\n",
       " 'alexinthewilderness',\n",
       " 'alexis',\n",
       " 'alexis30',\n",
       " 'alexis61915',\n",
       " 'alexiss',\n",
       " 'alexkatski',\n",
       " 'alexpr',\n",
       " 'alexspippop',\n",
       " 'alexus',\n",
       " 'alexwill03',\n",
       " 'alexzz',\n",
       " 'aleyzz',\n",
       " 'alfa',\n",
       " 'alfhise',\n",
       " 'alfi',\n",
       " 'alflorio20',\n",
       " 'alfredenewman',\n",
       " 'algig',\n",
       " 'algirl',\n",
       " 'alh1',\n",
       " 'alh655',\n",
       " 'ali11',\n",
       " 'ali6589',\n",
       " 'ali68',\n",
       " 'ali90',\n",
       " 'alias1701',\n",
       " 'alibm',\n",
       " 'alicarroll24',\n",
       " 'alice',\n",
       " 'alice13',\n",
       " 'alice1949',\n",
       " 'alice8',\n",
       " 'alicecrowo',\n",
       " 'alicia24',\n",
       " 'alicial',\n",
       " 'alieana008',\n",
       " 'alien271',\n",
       " 'alihal',\n",
       " 'alil7885',\n",
       " 'alipear',\n",
       " 'aliramos',\n",
       " 'aliray15',\n",
       " 'alisa83',\n",
       " 'alisha',\n",
       " 'alisha26',\n",
       " 'alishae03',\n",
       " 'alisonden',\n",
       " 'alisonr',\n",
       " 'alissa846',\n",
       " 'alit',\n",
       " 'alix p',\n",
       " 'alixine',\n",
       " 'alkevkas',\n",
       " 'alksjadf',\n",
       " 'all the way from iceland',\n",
       " 'all4myhandbags',\n",
       " 'all4savings',\n",
       " 'allaboutsoap',\n",
       " 'allan',\n",
       " 'allan19c',\n",
       " 'allan38',\n",
       " 'allan6048',\n",
       " 'allawi',\n",
       " 'allbadvol',\n",
       " 'allboys',\n",
       " 'allbusiness84',\n",
       " 'alldayallnight',\n",
       " 'allen',\n",
       " 'allen0674',\n",
       " 'allenlid',\n",
       " 'allevan',\n",
       " 'allf',\n",
       " 'alli0109',\n",
       " 'alli1289',\n",
       " 'alli16',\n",
       " 'alli4321',\n",
       " 'allie',\n",
       " 'allie123',\n",
       " 'allie3',\n",
       " 'allie32',\n",
       " 'allie37',\n",
       " 'allie623',\n",
       " 'allie86',\n",
       " 'allieforest',\n",
       " 'alliesnana1',\n",
       " 'alligator5',\n",
       " 'allikatt',\n",
       " 'alline',\n",
       " 'allison',\n",
       " 'allison123',\n",
       " 'allison33',\n",
       " 'allisoninboston',\n",
       " 'allisonr',\n",
       " 'allme',\n",
       " 'allmysonsmom',\n",
       " 'allthumbs',\n",
       " 'alltradeservices',\n",
       " 'allworld',\n",
       " 'ally',\n",
       " 'ally cat',\n",
       " 'ally023',\n",
       " 'ally1989',\n",
       " 'allycat',\n",
       " 'allyg',\n",
       " 'allyj1984',\n",
       " 'allymolaley',\n",
       " 'allyoueat',\n",
       " 'allyson',\n",
       " 'allyson55',\n",
       " 'allyv7',\n",
       " 'alm27',\n",
       " 'alma',\n",
       " 'alma82',\n",
       " 'almag21',\n",
       " 'almighty',\n",
       " 'almita84',\n",
       " 'alms816',\n",
       " 'alo1991',\n",
       " 'aloha4u',\n",
       " 'alohaguy',\n",
       " 'alohalk',\n",
       " 'alondrasnoopy',\n",
       " 'aloras',\n",
       " 'alotaboutlivin',\n",
       " 'alowai',\n",
       " 'alowther',\n",
       " 'alpaben',\n",
       " 'alpat',\n",
       " 'alphahogger',\n",
       " 'alphajake',\n",
       " 'alphamusk',\n",
       " 'alpinoy',\n",
       " 'alrack',\n",
       " 'alredhouse',\n",
       " 'alryan',\n",
       " 'als2886',\n",
       " 'als4',\n",
       " 'alta',\n",
       " 'altalu',\n",
       " 'alter96ego',\n",
       " 'altern3',\n",
       " 'alternateshark6',\n",
       " 'alternator',\n",
       " 'altutor',\n",
       " 'aluns',\n",
       " 'alvin',\n",
       " 'alvinsprincess',\n",
       " 'alvr',\n",
       " 'alwasevanessa',\n",
       " 'alwout',\n",
       " 'aly16',\n",
       " 'alya',\n",
       " 'alyang',\n",
       " 'alyce',\n",
       " 'alyea2014',\n",
       " 'alyek',\n",
       " 'alymom',\n",
       " 'alysia',\n",
       " 'alyssa',\n",
       " 'alyssa10199',\n",
       " 'alyssasaurus',\n",
       " 'alzado5150',\n",
       " 'am',\n",
       " 'am1228',\n",
       " 'am2lady',\n",
       " 'amac',\n",
       " 'amalgamut00',\n",
       " 'amanda',\n",
       " 'amanda01',\n",
       " 'amanda1217',\n",
       " 'amanda123456',\n",
       " 'amanda13',\n",
       " 'amanda1998',\n",
       " 'amanda2119',\n",
       " 'amanda25',\n",
       " 'amanda4455',\n",
       " 'amanda49955455445',\n",
       " 'amanda50',\n",
       " 'amanda567',\n",
       " 'amanda78',\n",
       " 'amandaanne05',\n",
       " 'amandabelieves',\n",
       " 'amandac',\n",
       " 'amandacoupon',\n",
       " 'amandad',\n",
       " 'amandaf0711',\n",
       " 'amandagb',\n",
       " 'amandahwynn',\n",
       " 'amandajean16',\n",
       " 'amandak1985',\n",
       " 'amandalynn',\n",
       " 'amandam03',\n",
       " 'amandamueller',\n",
       " 'amandarose',\n",
       " 'amandas',\n",
       " 'amandlm',\n",
       " 'amandurrth',\n",
       " 'amangaoday',\n",
       " 'amar',\n",
       " 'amar007',\n",
       " 'amar1028',\n",
       " 'amarella',\n",
       " 'amarie',\n",
       " 'amart6',\n",
       " 'amash1971',\n",
       " 'amat',\n",
       " 'amaturegamer',\n",
       " 'amaze',\n",
       " 'amazing',\n",
       " 'amazingalee',\n",
       " 'amazingami',\n",
       " 'amazingcleaningstar',\n",
       " 'amazingg',\n",
       " 'amazon buyer',\n",
       " 'amazon customer',\n",
       " 'amazonaddict',\n",
       " 'amb17',\n",
       " 'ambe',\n",
       " 'ambell005',\n",
       " 'amber',\n",
       " 'amber0405',\n",
       " 'amber0528',\n",
       " 'amber1017',\n",
       " 'amber22',\n",
       " 'amber31',\n",
       " 'amber79',\n",
       " 'amberander',\n",
       " 'amberd',\n",
       " 'amberd14',\n",
       " 'amberhunt',\n",
       " 'amberinco',\n",
       " 'amberlea',\n",
       " 'amberlea02174',\n",
       " 'ambermama',\n",
       " 'ambermorn7707',\n",
       " 'amberriggs419',\n",
       " 'amberw',\n",
       " 'ambler',\n",
       " 'ambr1207',\n",
       " 'ambugrl',\n",
       " 'amburley3',\n",
       " 'ambw2000',\n",
       " 'amby',\n",
       " 'ambybambi0725',\n",
       " 'amcdonald',\n",
       " 'amcomber',\n",
       " 'ame30',\n",
       " 'ameliaj',\n",
       " 'amerbamer',\n",
       " 'americanpatrick',\n",
       " 'americo',\n",
       " 'ameritwist',\n",
       " 'amers12211989',\n",
       " 'amethystfairy',\n",
       " 'amgnu1',\n",
       " 'amgo2',\n",
       " 'ami35',\n",
       " 'amie',\n",
       " 'amih',\n",
       " 'amikol01',\n",
       " 'aminah28',\n",
       " 'amishmom',\n",
       " 'amit',\n",
       " 'amita',\n",
       " 'amitrohatgi',\n",
       " 'amk',\n",
       " 'amkfitz',\n",
       " 'amksupersaver',\n",
       " 'amlj1975',\n",
       " 'amlyke',\n",
       " 'ammcam',\n",
       " 'ammi',\n",
       " 'ammojack',\n",
       " 'ammp',\n",
       " 'amn299',\n",
       " 'amomma',\n",
       " 'amor',\n",
       " 'amorykris',\n",
       " 'amp9211',\n",
       " 'ampracing',\n",
       " 'amriasa407',\n",
       " 'amsey',\n",
       " 'amsmes26',\n",
       " 'amunra76485',\n",
       " 'amuro',\n",
       " 'amw5555',\n",
       " 'amx1',\n",
       " 'amy',\n",
       " 'amy00381',\n",
       " 'amy0916',\n",
       " 'amy1',\n",
       " 'amy1234',\n",
       " 'amy15',\n",
       " 'amy1775',\n",
       " 'amy19788',\n",
       " 'amy1980',\n",
       " 'amy22',\n",
       " 'amy32',\n",
       " 'amy5235',\n",
       " 'amy75',\n",
       " 'amy77',\n",
       " 'amy81',\n",
       " 'amyamy',\n",
       " 'amyanelson',\n",
       " 'amyb60',\n",
       " 'amyd23',\n",
       " 'amyeba',\n",
       " 'amyeliz',\n",
       " 'amyh',\n",
       " 'amyhoward417',\n",
       " 'amyindurham',\n",
       " 'amyinsf',\n",
       " 'amykr',\n",
       " 'amyl',\n",
       " 'amylou',\n",
       " 'amym',\n",
       " 'amymarie',\n",
       " 'amymarie1375',\n",
       " 'amyrie',\n",
       " 'amyrn',\n",
       " 'amyro',\n",
       " 'amys',\n",
       " 'amys1975',\n",
       " 'amysww',\n",
       " ...]"
      ]
     },
     "execution_count": 82,
     "metadata": {},
     "output_type": "execute_result"
    }
   ],
   "source": []
  },
  {
   "cell_type": "code",
   "execution_count": null,
   "metadata": {},
   "outputs": [],
   "source": []
  },
  {
   "cell_type": "code",
   "execution_count": null,
   "metadata": {},
   "outputs": [],
   "source": []
  }
 ],
 "metadata": {
  "kernelspec": {
   "display_name": "Python 3",
   "language": "python",
   "name": "python3"
  },
  "language_info": {
   "codemirror_mode": {
    "name": "ipython",
    "version": 3
   },
   "file_extension": ".py",
   "mimetype": "text/x-python",
   "name": "python",
   "nbconvert_exporter": "python",
   "pygments_lexer": "ipython3",
   "version": "3.7.6"
  }
 },
 "nbformat": 4,
 "nbformat_minor": 4
}
